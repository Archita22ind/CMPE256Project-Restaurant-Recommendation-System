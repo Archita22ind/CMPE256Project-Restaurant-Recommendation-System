{
  "cells": [
    {
      "cell_type": "code",
      "execution_count": null,
      "metadata": {
        "colab": {
          "base_uri": "https://localhost:8080/"
        },
        "id": "R8IZgBIGKNbF",
        "outputId": "f7ad6dd2-7368-4102-d794-0b0f7b9ea3b7"
      },
      "outputs": [
        {
          "name": "stdout",
          "output_type": "stream",
          "text": [
            "Drive already mounted at /content/drive; to attempt to forcibly remount, call drive.mount(\"/content/drive\", force_remount=True).\n"
          ]
        }
      ],
      "source": [
        "from google.colab import drive\n",
        "drive.mount('/content/drive')"
      ]
    },
    {
      "cell_type": "code",
      "execution_count": null,
      "metadata": {
        "id": "O4ZmMnlizex0"
      },
      "outputs": [],
      "source": [
        "ca_users_path = '/content/drive/MyDrive/CMPE256/Data/CSVfiles/CA_users.csv'\n",
        "ca_review_path = '/content/drive/MyDrive/CMPE256/Data/CSVfiles/California_reviews.csv'\n",
        "business_path = '/content/drive/MyDrive/CMPE256/Data/CSVfiles/business.csv'"
      ]
    },
    {
      "cell_type": "code",
      "execution_count": null,
      "metadata": {
        "colab": {
          "base_uri": "https://localhost:8080/"
        },
        "id": "FeJW1GdCKbpk",
        "outputId": "ff40c6f5-d5cf-4af3-ff9d-e0df21e6d013"
      },
      "outputs": [
        {
          "name": "stdout",
          "output_type": "stream",
          "text": [
            "Requirement already satisfied: scikit-surprise in /usr/local/lib/python3.7/dist-packages (1.1.1)\n",
            "Requirement already satisfied: six>=1.10.0 in /usr/local/lib/python3.7/dist-packages (from scikit-surprise) (1.15.0)\n",
            "Requirement already satisfied: scipy>=1.0.0 in /usr/local/lib/python3.7/dist-packages (from scikit-surprise) (1.4.1)\n",
            "Requirement already satisfied: joblib>=0.11 in /usr/local/lib/python3.7/dist-packages (from scikit-surprise) (1.1.0)\n",
            "Requirement already satisfied: numpy>=1.11.2 in /usr/local/lib/python3.7/dist-packages (from scikit-surprise) (1.21.6)\n"
          ]
        }
      ],
      "source": [
        "!pip install scikit-surprise\n",
        "from surprise import SVD"
      ]
    },
    {
      "cell_type": "code",
      "execution_count": null,
      "metadata": {
        "id": "9W4U6-ENLSUs"
      },
      "outputs": [],
      "source": [
        "import pandas as pd\n",
        "from surprise import Dataset, Reader\n",
        "from surprise import accuracy\n",
        "from surprise.model_selection import train_test_split\n",
        "from surprise.model_selection import GridSearchCV\n",
        "from surprise.model_selection import KFold\n",
        "from surprise import SVD\n",
        "\n",
        "# from surprise.prediction_algorithms.matrix_factorization import SVDpp"
      ]
    },
    {
      "cell_type": "markdown",
      "metadata": {
        "id": "psuK1yAM7N-4"
      },
      "source": [
        "# Creating Dataframes"
      ]
    },
    {
      "cell_type": "code",
      "execution_count": null,
      "metadata": {
        "id": "r4SaQOGG018q"
      },
      "outputs": [],
      "source": [
        "reviews = pd.read_csv(ca_review_path, usecols= ['business_id', 'stars', 'review_id', 'user_id'])\n",
        "business = pd.read_csv(business_path, usecols= ['business_id', 'name'])\n",
        "users = pd.read_csv(ca_users_path, usecols= ['user_id', 'is_elite'])"
      ]
    },
    {
      "cell_type": "code",
      "execution_count": null,
      "metadata": {
        "id": "RU4FArI012DR"
      },
      "outputs": [],
      "source": [
        "## Since users and business dataframe both have the same column names we will update them accordingly\n",
        "users = users.rename(columns = { 'name': 'Username' })\n",
        "business = business.rename(columns = { 'name': 'Restaurant name' })"
      ]
    },
    {
      "cell_type": "code",
      "execution_count": null,
      "metadata": {
        "colab": {
          "base_uri": "https://localhost:8080/",
          "height": 206
        },
        "id": "RiswGdjd1543",
        "outputId": "5572129c-8838-4296-f7fa-e0c9aebc5aa7"
      },
      "outputs": [
        {
          "data": {
            "text/html": [
              "\n",
              "  <div id=\"df-57a8c602-a953-46d0-b989-4974e529e45f\">\n",
              "    <div class=\"colab-df-container\">\n",
              "      <div>\n",
              "<style scoped>\n",
              "    .dataframe tbody tr th:only-of-type {\n",
              "        vertical-align: middle;\n",
              "    }\n",
              "\n",
              "    .dataframe tbody tr th {\n",
              "        vertical-align: top;\n",
              "    }\n",
              "\n",
              "    .dataframe thead th {\n",
              "        text-align: right;\n",
              "    }\n",
              "</style>\n",
              "<table border=\"1\" class=\"dataframe\">\n",
              "  <thead>\n",
              "    <tr style=\"text-align: right;\">\n",
              "      <th></th>\n",
              "      <th>review_id</th>\n",
              "      <th>user_id</th>\n",
              "      <th>business_id</th>\n",
              "      <th>stars</th>\n",
              "    </tr>\n",
              "  </thead>\n",
              "  <tbody>\n",
              "    <tr>\n",
              "      <th>0</th>\n",
              "      <td>pUycOfUwM8vqX7KjRRhUEA</td>\n",
              "      <td>59MxRhNVhU9MYndMkz0wtw</td>\n",
              "      <td>gebiRewfieSdtt17PTW6Zg</td>\n",
              "      <td>3.0</td>\n",
              "    </tr>\n",
              "    <tr>\n",
              "      <th>1</th>\n",
              "      <td>eCiWBf1CJ0Zdv1uVarEhhw</td>\n",
              "      <td>OhECKhQEexFypOMY6kypRw</td>\n",
              "      <td>vC2qm1y3Au5czBtbhc-DNw</td>\n",
              "      <td>4.0</td>\n",
              "    </tr>\n",
              "    <tr>\n",
              "      <th>2</th>\n",
              "      <td>YbMyvlDA2W3Py5lTz8VK-A</td>\n",
              "      <td>4hBhtCSgoxkrFgHa4YAD-w</td>\n",
              "      <td>bbEXAEFr4RYHLlZ-HFssTA</td>\n",
              "      <td>5.0</td>\n",
              "    </tr>\n",
              "    <tr>\n",
              "      <th>3</th>\n",
              "      <td>L0jv8c2FbpWSlfNC6bbUEA</td>\n",
              "      <td>bFPdtzu11Oi0f92EAcjqmg</td>\n",
              "      <td>IDtLPgUrqorrpqSLdfMhZQ</td>\n",
              "      <td>5.0</td>\n",
              "    </tr>\n",
              "    <tr>\n",
              "      <th>4</th>\n",
              "      <td>4zopEEPqfwm-c_FNpeHZYw</td>\n",
              "      <td>JYYYKt6TdVA4ng9lLcXt_g</td>\n",
              "      <td>SZU9c8V2GuREDN5KgyHFJw</td>\n",
              "      <td>5.0</td>\n",
              "    </tr>\n",
              "  </tbody>\n",
              "</table>\n",
              "</div>\n",
              "      <button class=\"colab-df-convert\" onclick=\"convertToInteractive('df-57a8c602-a953-46d0-b989-4974e529e45f')\"\n",
              "              title=\"Convert this dataframe to an interactive table.\"\n",
              "              style=\"display:none;\">\n",
              "        \n",
              "  <svg xmlns=\"http://www.w3.org/2000/svg\" height=\"24px\"viewBox=\"0 0 24 24\"\n",
              "       width=\"24px\">\n",
              "    <path d=\"M0 0h24v24H0V0z\" fill=\"none\"/>\n",
              "    <path d=\"M18.56 5.44l.94 2.06.94-2.06 2.06-.94-2.06-.94-.94-2.06-.94 2.06-2.06.94zm-11 1L8.5 8.5l.94-2.06 2.06-.94-2.06-.94L8.5 2.5l-.94 2.06-2.06.94zm10 10l.94 2.06.94-2.06 2.06-.94-2.06-.94-.94-2.06-.94 2.06-2.06.94z\"/><path d=\"M17.41 7.96l-1.37-1.37c-.4-.4-.92-.59-1.43-.59-.52 0-1.04.2-1.43.59L10.3 9.45l-7.72 7.72c-.78.78-.78 2.05 0 2.83L4 21.41c.39.39.9.59 1.41.59.51 0 1.02-.2 1.41-.59l7.78-7.78 2.81-2.81c.8-.78.8-2.07 0-2.86zM5.41 20L4 18.59l7.72-7.72 1.47 1.35L5.41 20z\"/>\n",
              "  </svg>\n",
              "      </button>\n",
              "      \n",
              "  <style>\n",
              "    .colab-df-container {\n",
              "      display:flex;\n",
              "      flex-wrap:wrap;\n",
              "      gap: 12px;\n",
              "    }\n",
              "\n",
              "    .colab-df-convert {\n",
              "      background-color: #E8F0FE;\n",
              "      border: none;\n",
              "      border-radius: 50%;\n",
              "      cursor: pointer;\n",
              "      display: none;\n",
              "      fill: #1967D2;\n",
              "      height: 32px;\n",
              "      padding: 0 0 0 0;\n",
              "      width: 32px;\n",
              "    }\n",
              "\n",
              "    .colab-df-convert:hover {\n",
              "      background-color: #E2EBFA;\n",
              "      box-shadow: 0px 1px 2px rgba(60, 64, 67, 0.3), 0px 1px 3px 1px rgba(60, 64, 67, 0.15);\n",
              "      fill: #174EA6;\n",
              "    }\n",
              "\n",
              "    [theme=dark] .colab-df-convert {\n",
              "      background-color: #3B4455;\n",
              "      fill: #D2E3FC;\n",
              "    }\n",
              "\n",
              "    [theme=dark] .colab-df-convert:hover {\n",
              "      background-color: #434B5C;\n",
              "      box-shadow: 0px 1px 3px 1px rgba(0, 0, 0, 0.15);\n",
              "      filter: drop-shadow(0px 1px 2px rgba(0, 0, 0, 0.3));\n",
              "      fill: #FFFFFF;\n",
              "    }\n",
              "  </style>\n",
              "\n",
              "      <script>\n",
              "        const buttonEl =\n",
              "          document.querySelector('#df-57a8c602-a953-46d0-b989-4974e529e45f button.colab-df-convert');\n",
              "        buttonEl.style.display =\n",
              "          google.colab.kernel.accessAllowed ? 'block' : 'none';\n",
              "\n",
              "        async function convertToInteractive(key) {\n",
              "          const element = document.querySelector('#df-57a8c602-a953-46d0-b989-4974e529e45f');\n",
              "          const dataTable =\n",
              "            await google.colab.kernel.invokeFunction('convertToInteractive',\n",
              "                                                     [key], {});\n",
              "          if (!dataTable) return;\n",
              "\n",
              "          const docLinkHtml = 'Like what you see? Visit the ' +\n",
              "            '<a target=\"_blank\" href=https://colab.research.google.com/notebooks/data_table.ipynb>data table notebook</a>'\n",
              "            + ' to learn more about interactive tables.';\n",
              "          element.innerHTML = '';\n",
              "          dataTable['output_type'] = 'display_data';\n",
              "          await google.colab.output.renderOutput(dataTable, element);\n",
              "          const docLink = document.createElement('div');\n",
              "          docLink.innerHTML = docLinkHtml;\n",
              "          element.appendChild(docLink);\n",
              "        }\n",
              "      </script>\n",
              "    </div>\n",
              "  </div>\n",
              "  "
            ],
            "text/plain": [
              "                review_id                 user_id             business_id  \\\n",
              "0  pUycOfUwM8vqX7KjRRhUEA  59MxRhNVhU9MYndMkz0wtw  gebiRewfieSdtt17PTW6Zg   \n",
              "1  eCiWBf1CJ0Zdv1uVarEhhw  OhECKhQEexFypOMY6kypRw  vC2qm1y3Au5czBtbhc-DNw   \n",
              "2  YbMyvlDA2W3Py5lTz8VK-A  4hBhtCSgoxkrFgHa4YAD-w  bbEXAEFr4RYHLlZ-HFssTA   \n",
              "3  L0jv8c2FbpWSlfNC6bbUEA  bFPdtzu11Oi0f92EAcjqmg  IDtLPgUrqorrpqSLdfMhZQ   \n",
              "4  4zopEEPqfwm-c_FNpeHZYw  JYYYKt6TdVA4ng9lLcXt_g  SZU9c8V2GuREDN5KgyHFJw   \n",
              "\n",
              "   stars  \n",
              "0    3.0  \n",
              "1    4.0  \n",
              "2    5.0  \n",
              "3    5.0  \n",
              "4    5.0  "
            ]
          },
          "execution_count": 68,
          "metadata": {},
          "output_type": "execute_result"
        }
      ],
      "source": [
        "reviews.columns\n",
        "reviews.head()"
      ]
    },
    {
      "cell_type": "code",
      "execution_count": null,
      "metadata": {
        "colab": {
          "base_uri": "https://localhost:8080/"
        },
        "id": "O2da-wWq1-IO",
        "outputId": "a29a5d10-62fa-4399-f10d-8e8838bbefd0"
      },
      "outputs": [
        {
          "data": {
            "text/plain": [
              "Index(['business_id', 'Restaurant name'], dtype='object')"
            ]
          },
          "execution_count": 69,
          "metadata": {},
          "output_type": "execute_result"
        }
      ],
      "source": [
        "\n",
        "business.columns\n"
      ]
    },
    {
      "cell_type": "code",
      "execution_count": null,
      "metadata": {
        "colab": {
          "base_uri": "https://localhost:8080/"
        },
        "id": "V6JOLbhn2Bz-",
        "outputId": "c82533db-8c66-4409-843e-17b853d0a060"
      },
      "outputs": [
        {
          "data": {
            "text/plain": [
              "Index(['user_id', 'is_elite'], dtype='object')"
            ]
          },
          "execution_count": 70,
          "metadata": {},
          "output_type": "execute_result"
        }
      ],
      "source": [
        "users.columns\n"
      ]
    },
    {
      "cell_type": "code",
      "execution_count": null,
      "metadata": {
        "colab": {
          "base_uri": "https://localhost:8080/",
          "height": 206
        },
        "id": "79KzkMiP2F7G",
        "outputId": "bd1c90a5-6957-4adf-937c-9f013a85efd6"
      },
      "outputs": [
        {
          "data": {
            "text/html": [
              "\n",
              "  <div id=\"df-e1406389-cdf6-4078-8c71-61c2efada972\">\n",
              "    <div class=\"colab-df-container\">\n",
              "      <div>\n",
              "<style scoped>\n",
              "    .dataframe tbody tr th:only-of-type {\n",
              "        vertical-align: middle;\n",
              "    }\n",
              "\n",
              "    .dataframe tbody tr th {\n",
              "        vertical-align: top;\n",
              "    }\n",
              "\n",
              "    .dataframe thead th {\n",
              "        text-align: right;\n",
              "    }\n",
              "</style>\n",
              "<table border=\"1\" class=\"dataframe\">\n",
              "  <thead>\n",
              "    <tr style=\"text-align: right;\">\n",
              "      <th></th>\n",
              "      <th>user_id</th>\n",
              "      <th>is_elite</th>\n",
              "    </tr>\n",
              "  </thead>\n",
              "  <tbody>\n",
              "    <tr>\n",
              "      <th>0</th>\n",
              "      <td>qVc8ODYU5SZjKXVBgXdI7w</td>\n",
              "      <td>True</td>\n",
              "    </tr>\n",
              "    <tr>\n",
              "      <th>1</th>\n",
              "      <td>SZDeASXq7o05mMNLshsdIA</td>\n",
              "      <td>True</td>\n",
              "    </tr>\n",
              "    <tr>\n",
              "      <th>2</th>\n",
              "      <td>q_QQ5kBBwlCcbL1s4NVK3g</td>\n",
              "      <td>True</td>\n",
              "    </tr>\n",
              "    <tr>\n",
              "      <th>3</th>\n",
              "      <td>iYzhPPqnrjJkg1JHZyMhzA</td>\n",
              "      <td>False</td>\n",
              "    </tr>\n",
              "    <tr>\n",
              "      <th>4</th>\n",
              "      <td>QF1Kuhs8iwLWANNZxebTow</td>\n",
              "      <td>True</td>\n",
              "    </tr>\n",
              "  </tbody>\n",
              "</table>\n",
              "</div>\n",
              "      <button class=\"colab-df-convert\" onclick=\"convertToInteractive('df-e1406389-cdf6-4078-8c71-61c2efada972')\"\n",
              "              title=\"Convert this dataframe to an interactive table.\"\n",
              "              style=\"display:none;\">\n",
              "        \n",
              "  <svg xmlns=\"http://www.w3.org/2000/svg\" height=\"24px\"viewBox=\"0 0 24 24\"\n",
              "       width=\"24px\">\n",
              "    <path d=\"M0 0h24v24H0V0z\" fill=\"none\"/>\n",
              "    <path d=\"M18.56 5.44l.94 2.06.94-2.06 2.06-.94-2.06-.94-.94-2.06-.94 2.06-2.06.94zm-11 1L8.5 8.5l.94-2.06 2.06-.94-2.06-.94L8.5 2.5l-.94 2.06-2.06.94zm10 10l.94 2.06.94-2.06 2.06-.94-2.06-.94-.94-2.06-.94 2.06-2.06.94z\"/><path d=\"M17.41 7.96l-1.37-1.37c-.4-.4-.92-.59-1.43-.59-.52 0-1.04.2-1.43.59L10.3 9.45l-7.72 7.72c-.78.78-.78 2.05 0 2.83L4 21.41c.39.39.9.59 1.41.59.51 0 1.02-.2 1.41-.59l7.78-7.78 2.81-2.81c.8-.78.8-2.07 0-2.86zM5.41 20L4 18.59l7.72-7.72 1.47 1.35L5.41 20z\"/>\n",
              "  </svg>\n",
              "      </button>\n",
              "      \n",
              "  <style>\n",
              "    .colab-df-container {\n",
              "      display:flex;\n",
              "      flex-wrap:wrap;\n",
              "      gap: 12px;\n",
              "    }\n",
              "\n",
              "    .colab-df-convert {\n",
              "      background-color: #E8F0FE;\n",
              "      border: none;\n",
              "      border-radius: 50%;\n",
              "      cursor: pointer;\n",
              "      display: none;\n",
              "      fill: #1967D2;\n",
              "      height: 32px;\n",
              "      padding: 0 0 0 0;\n",
              "      width: 32px;\n",
              "    }\n",
              "\n",
              "    .colab-df-convert:hover {\n",
              "      background-color: #E2EBFA;\n",
              "      box-shadow: 0px 1px 2px rgba(60, 64, 67, 0.3), 0px 1px 3px 1px rgba(60, 64, 67, 0.15);\n",
              "      fill: #174EA6;\n",
              "    }\n",
              "\n",
              "    [theme=dark] .colab-df-convert {\n",
              "      background-color: #3B4455;\n",
              "      fill: #D2E3FC;\n",
              "    }\n",
              "\n",
              "    [theme=dark] .colab-df-convert:hover {\n",
              "      background-color: #434B5C;\n",
              "      box-shadow: 0px 1px 3px 1px rgba(0, 0, 0, 0.15);\n",
              "      filter: drop-shadow(0px 1px 2px rgba(0, 0, 0, 0.3));\n",
              "      fill: #FFFFFF;\n",
              "    }\n",
              "  </style>\n",
              "\n",
              "      <script>\n",
              "        const buttonEl =\n",
              "          document.querySelector('#df-e1406389-cdf6-4078-8c71-61c2efada972 button.colab-df-convert');\n",
              "        buttonEl.style.display =\n",
              "          google.colab.kernel.accessAllowed ? 'block' : 'none';\n",
              "\n",
              "        async function convertToInteractive(key) {\n",
              "          const element = document.querySelector('#df-e1406389-cdf6-4078-8c71-61c2efada972');\n",
              "          const dataTable =\n",
              "            await google.colab.kernel.invokeFunction('convertToInteractive',\n",
              "                                                     [key], {});\n",
              "          if (!dataTable) return;\n",
              "\n",
              "          const docLinkHtml = 'Like what you see? Visit the ' +\n",
              "            '<a target=\"_blank\" href=https://colab.research.google.com/notebooks/data_table.ipynb>data table notebook</a>'\n",
              "            + ' to learn more about interactive tables.';\n",
              "          element.innerHTML = '';\n",
              "          dataTable['output_type'] = 'display_data';\n",
              "          await google.colab.output.renderOutput(dataTable, element);\n",
              "          const docLink = document.createElement('div');\n",
              "          docLink.innerHTML = docLinkHtml;\n",
              "          element.appendChild(docLink);\n",
              "        }\n",
              "      </script>\n",
              "    </div>\n",
              "  </div>\n",
              "  "
            ],
            "text/plain": [
              "                  user_id  is_elite\n",
              "0  qVc8ODYU5SZjKXVBgXdI7w      True\n",
              "1  SZDeASXq7o05mMNLshsdIA      True\n",
              "2  q_QQ5kBBwlCcbL1s4NVK3g      True\n",
              "3  iYzhPPqnrjJkg1JHZyMhzA     False\n",
              "4  QF1Kuhs8iwLWANNZxebTow      True"
            ]
          },
          "execution_count": 71,
          "metadata": {},
          "output_type": "execute_result"
        }
      ],
      "source": [
        "users.head()"
      ]
    },
    {
      "cell_type": "markdown",
      "metadata": {
        "id": "a2Qp8gprI1vD"
      },
      "source": [
        "## Elite Reviews Only"
      ]
    },
    {
      "cell_type": "code",
      "execution_count": null,
      "metadata": {
        "colab": {
          "base_uri": "https://localhost:8080/"
        },
        "id": "5SogSPcxI_bZ",
        "outputId": "2857d1d2-1f5d-4c72-ba92-2925eb0f06bd"
      },
      "outputs": [
        {
          "data": {
            "text/plain": [
              "(239065, 6)"
            ]
          },
          "execution_count": 72,
          "metadata": {},
          "output_type": "execute_result"
        }
      ],
      "source": [
        "elite_reviews_df = reviews.merge(users, how='left', on=['user_id'], indicator=True)\n",
        "elite_reviews_df.shape"
      ]
    },
    {
      "cell_type": "code",
      "execution_count": null,
      "metadata": {
        "colab": {
          "base_uri": "https://localhost:8080/"
        },
        "id": "TbMDvgOcJzgR",
        "outputId": "49b2869e-c704-4b4c-f597-696ccbcbeaa2"
      },
      "outputs": [
        {
          "data": {
            "text/plain": [
              "(48367, 6)"
            ]
          },
          "execution_count": 73,
          "metadata": {},
          "output_type": "execute_result"
        }
      ],
      "source": [
        "elite_reviews_df = elite_reviews_df.loc[elite_reviews_df['is_elite'] == True]\n",
        "elite_reviews_df.shape"
      ]
    },
    {
      "cell_type": "code",
      "execution_count": null,
      "metadata": {
        "id": "OEDPhCk2LNdH"
      },
      "outputs": [],
      "source": [
        "reader = Reader(rating_scale=(1, 5))\n",
        "\n",
        "# The columns must correspond to user id, business id and stars (in that order).\n",
        "data = Dataset.load_from_df(elite_reviews_df[['user_id', 'business_id', 'stars']], reader)"
      ]
    },
    {
      "cell_type": "markdown",
      "metadata": {
        "id": "d0--6Uuf9aub"
      },
      "source": [
        "## User based collaborative filtering"
      ]
    },
    {
      "cell_type": "code",
      "execution_count": null,
      "metadata": {
        "colab": {
          "base_uri": "https://localhost:8080/",
          "height": 250
        },
        "id": "9P14YTgf9i0K",
        "outputId": "35508211-d347-4ef3-c364-bf162c127442"
      },
      "outputs": [
        {
          "data": {
            "text/html": [
              "\n",
              "  <div id=\"df-0353ad8e-aa32-45a7-92e9-8c586a205d91\">\n",
              "    <div class=\"colab-df-container\">\n",
              "      <div>\n",
              "<style scoped>\n",
              "    .dataframe tbody tr th:only-of-type {\n",
              "        vertical-align: middle;\n",
              "    }\n",
              "\n",
              "    .dataframe tbody tr th {\n",
              "        vertical-align: top;\n",
              "    }\n",
              "\n",
              "    .dataframe thead th {\n",
              "        text-align: right;\n",
              "    }\n",
              "</style>\n",
              "<table border=\"1\" class=\"dataframe\">\n",
              "  <thead>\n",
              "    <tr style=\"text-align: right;\">\n",
              "      <th></th>\n",
              "      <th>review_id</th>\n",
              "      <th>user_id</th>\n",
              "      <th>business_id</th>\n",
              "      <th>stars</th>\n",
              "      <th>Restaurant name</th>\n",
              "      <th>is_elite</th>\n",
              "    </tr>\n",
              "  </thead>\n",
              "  <tbody>\n",
              "    <tr>\n",
              "      <th>0</th>\n",
              "      <td>pUycOfUwM8vqX7KjRRhUEA</td>\n",
              "      <td>59MxRhNVhU9MYndMkz0wtw</td>\n",
              "      <td>gebiRewfieSdtt17PTW6Zg</td>\n",
              "      <td>3.0</td>\n",
              "      <td>Hibachi Steak House &amp; Sushi Bar</td>\n",
              "      <td>False</td>\n",
              "    </tr>\n",
              "    <tr>\n",
              "      <th>1</th>\n",
              "      <td>eCiWBf1CJ0Zdv1uVarEhhw</td>\n",
              "      <td>OhECKhQEexFypOMY6kypRw</td>\n",
              "      <td>vC2qm1y3Au5czBtbhc-DNw</td>\n",
              "      <td>4.0</td>\n",
              "      <td>Sushi Teri</td>\n",
              "      <td>False</td>\n",
              "    </tr>\n",
              "    <tr>\n",
              "      <th>2</th>\n",
              "      <td>YbMyvlDA2W3Py5lTz8VK-A</td>\n",
              "      <td>4hBhtCSgoxkrFgHa4YAD-w</td>\n",
              "      <td>bbEXAEFr4RYHLlZ-HFssTA</td>\n",
              "      <td>5.0</td>\n",
              "      <td>The Original Habit Burger Grill</td>\n",
              "      <td>True</td>\n",
              "    </tr>\n",
              "    <tr>\n",
              "      <th>3</th>\n",
              "      <td>L0jv8c2FbpWSlfNC6bbUEA</td>\n",
              "      <td>bFPdtzu11Oi0f92EAcjqmg</td>\n",
              "      <td>IDtLPgUrqorrpqSLdfMhZQ</td>\n",
              "      <td>5.0</td>\n",
              "      <td>Helena Avenue Bakery</td>\n",
              "      <td>False</td>\n",
              "    </tr>\n",
              "    <tr>\n",
              "      <th>4</th>\n",
              "      <td>4zopEEPqfwm-c_FNpeHZYw</td>\n",
              "      <td>JYYYKt6TdVA4ng9lLcXt_g</td>\n",
              "      <td>SZU9c8V2GuREDN5KgyHFJw</td>\n",
              "      <td>5.0</td>\n",
              "      <td>Santa Barbara Shellfish Company</td>\n",
              "      <td>True</td>\n",
              "    </tr>\n",
              "  </tbody>\n",
              "</table>\n",
              "</div>\n",
              "      <button class=\"colab-df-convert\" onclick=\"convertToInteractive('df-0353ad8e-aa32-45a7-92e9-8c586a205d91')\"\n",
              "              title=\"Convert this dataframe to an interactive table.\"\n",
              "              style=\"display:none;\">\n",
              "        \n",
              "  <svg xmlns=\"http://www.w3.org/2000/svg\" height=\"24px\"viewBox=\"0 0 24 24\"\n",
              "       width=\"24px\">\n",
              "    <path d=\"M0 0h24v24H0V0z\" fill=\"none\"/>\n",
              "    <path d=\"M18.56 5.44l.94 2.06.94-2.06 2.06-.94-2.06-.94-.94-2.06-.94 2.06-2.06.94zm-11 1L8.5 8.5l.94-2.06 2.06-.94-2.06-.94L8.5 2.5l-.94 2.06-2.06.94zm10 10l.94 2.06.94-2.06 2.06-.94-2.06-.94-.94-2.06-.94 2.06-2.06.94z\"/><path d=\"M17.41 7.96l-1.37-1.37c-.4-.4-.92-.59-1.43-.59-.52 0-1.04.2-1.43.59L10.3 9.45l-7.72 7.72c-.78.78-.78 2.05 0 2.83L4 21.41c.39.39.9.59 1.41.59.51 0 1.02-.2 1.41-.59l7.78-7.78 2.81-2.81c.8-.78.8-2.07 0-2.86zM5.41 20L4 18.59l7.72-7.72 1.47 1.35L5.41 20z\"/>\n",
              "  </svg>\n",
              "      </button>\n",
              "      \n",
              "  <style>\n",
              "    .colab-df-container {\n",
              "      display:flex;\n",
              "      flex-wrap:wrap;\n",
              "      gap: 12px;\n",
              "    }\n",
              "\n",
              "    .colab-df-convert {\n",
              "      background-color: #E8F0FE;\n",
              "      border: none;\n",
              "      border-radius: 50%;\n",
              "      cursor: pointer;\n",
              "      display: none;\n",
              "      fill: #1967D2;\n",
              "      height: 32px;\n",
              "      padding: 0 0 0 0;\n",
              "      width: 32px;\n",
              "    }\n",
              "\n",
              "    .colab-df-convert:hover {\n",
              "      background-color: #E2EBFA;\n",
              "      box-shadow: 0px 1px 2px rgba(60, 64, 67, 0.3), 0px 1px 3px 1px rgba(60, 64, 67, 0.15);\n",
              "      fill: #174EA6;\n",
              "    }\n",
              "\n",
              "    [theme=dark] .colab-df-convert {\n",
              "      background-color: #3B4455;\n",
              "      fill: #D2E3FC;\n",
              "    }\n",
              "\n",
              "    [theme=dark] .colab-df-convert:hover {\n",
              "      background-color: #434B5C;\n",
              "      box-shadow: 0px 1px 3px 1px rgba(0, 0, 0, 0.15);\n",
              "      filter: drop-shadow(0px 1px 2px rgba(0, 0, 0, 0.3));\n",
              "      fill: #FFFFFF;\n",
              "    }\n",
              "  </style>\n",
              "\n",
              "      <script>\n",
              "        const buttonEl =\n",
              "          document.querySelector('#df-0353ad8e-aa32-45a7-92e9-8c586a205d91 button.colab-df-convert');\n",
              "        buttonEl.style.display =\n",
              "          google.colab.kernel.accessAllowed ? 'block' : 'none';\n",
              "\n",
              "        async function convertToInteractive(key) {\n",
              "          const element = document.querySelector('#df-0353ad8e-aa32-45a7-92e9-8c586a205d91');\n",
              "          const dataTable =\n",
              "            await google.colab.kernel.invokeFunction('convertToInteractive',\n",
              "                                                     [key], {});\n",
              "          if (!dataTable) return;\n",
              "\n",
              "          const docLinkHtml = 'Like what you see? Visit the ' +\n",
              "            '<a target=\"_blank\" href=https://colab.research.google.com/notebooks/data_table.ipynb>data table notebook</a>'\n",
              "            + ' to learn more about interactive tables.';\n",
              "          element.innerHTML = '';\n",
              "          dataTable['output_type'] = 'display_data';\n",
              "          await google.colab.output.renderOutput(dataTable, element);\n",
              "          const docLink = document.createElement('div');\n",
              "          docLink.innerHTML = docLinkHtml;\n",
              "          element.appendChild(docLink);\n",
              "        }\n",
              "      </script>\n",
              "    </div>\n",
              "  </div>\n",
              "  "
            ],
            "text/plain": [
              "                review_id                 user_id             business_id  \\\n",
              "0  pUycOfUwM8vqX7KjRRhUEA  59MxRhNVhU9MYndMkz0wtw  gebiRewfieSdtt17PTW6Zg   \n",
              "1  eCiWBf1CJ0Zdv1uVarEhhw  OhECKhQEexFypOMY6kypRw  vC2qm1y3Au5czBtbhc-DNw   \n",
              "2  YbMyvlDA2W3Py5lTz8VK-A  4hBhtCSgoxkrFgHa4YAD-w  bbEXAEFr4RYHLlZ-HFssTA   \n",
              "3  L0jv8c2FbpWSlfNC6bbUEA  bFPdtzu11Oi0f92EAcjqmg  IDtLPgUrqorrpqSLdfMhZQ   \n",
              "4  4zopEEPqfwm-c_FNpeHZYw  JYYYKt6TdVA4ng9lLcXt_g  SZU9c8V2GuREDN5KgyHFJw   \n",
              "\n",
              "   stars                  Restaurant name  is_elite  \n",
              "0    3.0  Hibachi Steak House & Sushi Bar     False  \n",
              "1    4.0                       Sushi Teri     False  \n",
              "2    5.0  The Original Habit Burger Grill      True  \n",
              "3    5.0             Helena Avenue Bakery     False  \n",
              "4    5.0  Santa Barbara Shellfish Company      True  "
            ]
          },
          "execution_count": 75,
          "metadata": {},
          "output_type": "execute_result"
        }
      ],
      "source": [
        "# Combine the columns from the given dataframe to consist only of required columns for model\n",
        "ratings_data = reviews.join(business.set_index('business_id'), on='business_id')\n",
        "ratings_data = ratings_data.join(users.set_index('user_id'), on = 'user_id')\n",
        "ratings_data.head()"
      ]
    },
    {
      "cell_type": "code",
      "execution_count": null,
      "metadata": {
        "id": "KIS0TSbK9u2T"
      },
      "outputs": [],
      "source": [
        "# An antiset is a set of those user and item pairs for which a rating doesn't exist in original dataset\n",
        "# We will use this data for testing\n",
        "anti_set = data.build_full_trainset().build_anti_testset()"
      ]
    },
    {
      "cell_type": "code",
      "execution_count": null,
      "metadata": {
        "id": "riubNaaQ91mG"
      },
      "outputs": [],
      "source": [
        "business = business.drop_duplicates(['business_id' , 'Restaurant name'])"
      ]
    },
    {
      "cell_type": "markdown",
      "metadata": {
        "id": "V6oGrHsi2Jem"
      },
      "source": [
        "### Fit the model with 3 splits"
      ]
    },
    {
      "cell_type": "code",
      "execution_count": null,
      "metadata": {
        "id": "IbgSbGlr910R"
      },
      "outputs": [],
      "source": [
        "## Fit the model with 3 splits\n",
        "kf = KFold(n_splits=3)\n",
        "algo = SVD()"
      ]
    },
    {
      "cell_type": "code",
      "execution_count": null,
      "metadata": {
        "colab": {
          "base_uri": "https://localhost:8080/"
        },
        "id": "Tku9K4tqJmMj",
        "outputId": "34aa4c88-f49f-4abb-c8ba-9525a6404f24"
      },
      "outputs": [
        {
          "name": "stdout",
          "output_type": "stream",
          "text": [
            "RMSE: 0.9403\n",
            "RMSE: 0.9384\n",
            "RMSE: 0.9538\n"
          ]
        }
      ],
      "source": [
        "for trainset, testset in kf.split(data):\n",
        "    # train and test algorithm.\n",
        "    algo.fit(trainset)\n",
        "    predictions = algo.test(testset)\n",
        "    # Compute and print Root Mean Squared Error\n",
        "    rmse = accuracy.rmse(predictions, verbose=True)"
      ]
    },
    {
      "cell_type": "markdown",
      "metadata": {
        "id": "g2ZbICzxfI0F"
      },
      "source": [
        "https://surprise.readthedocs.io/en/stable/matrix_factorization.html#surprise.prediction_algorithms.matrix_factorization.SVD"
      ]
    },
    {
      "cell_type": "code",
      "execution_count": null,
      "metadata": {
        "id": "dAXmINI5QUEG"
      },
      "outputs": [],
      "source": [
        "def gridSearchCV():\n",
        "  param_grid = {\n",
        "    'n_factors':[1,2],\n",
        "    'n_epochs': [10, 20, 30, 40], \n",
        "    'lr_all': [0.005, 0.007],\n",
        "    'reg_all': [0.02,0.04,0.1],\n",
        "    'lr_pu': [0.005,3,5,10],\n",
        "    'reg_pu': [0.005,3,5,10]}\n",
        "    #'reg_all': [0.02, 0.04]\n",
        "    # 'n_factors':[5, 10, 15, 20],\n",
        "  gs_model = GridSearchCV(algo_class=SVD, param_grid=param_grid, measures=['rmse'], cv=3)\n",
        "  return gs_model"
      ]
    },
    {
      "cell_type": "code",
      "execution_count": null,
      "metadata": {
        "id": "5T5C_UjpRfhj"
      },
      "outputs": [],
      "source": [
        "gs_model = gridSearchCV()"
      ]
    },
    {
      "cell_type": "code",
      "execution_count": null,
      "metadata": {
        "colab": {
          "background_save": true,
          "base_uri": "https://localhost:8080/"
        },
        "id": "cAIWrGbvRkYG",
        "outputId": "0013ceb4-3bdf-44a1-c5c1-451b47b485ac"
      },
      "outputs": [
        {
          "name": "stderr",
          "output_type": "stream",
          "text": [
            "/usr/local/lib/python3.7/dist-packages/surprise/prediction_algorithms/algo_base.py:106: RuntimeWarning: invalid value encountered in double_scalars\n",
            "  est = self.estimate(iuid, iiid)\n"
          ]
        }
      ],
      "source": [
        "gs_model.fit(data)"
      ]
    },
    {
      "cell_type": "code",
      "execution_count": null,
      "metadata": {
        "colab": {
          "base_uri": "https://localhost:8080/"
        },
        "id": "G_TyhkcXSqj3",
        "outputId": "6b85f885-10f3-4bb9-e079-f1af266c200d"
      },
      "outputs": [
        {
          "name": "stdout",
          "output_type": "stream",
          "text": [
            "{'rmse': {'n_factors': 1, 'n_epochs': 10, 'lr_all': 0.005, 'reg_all': 0.02, 'lr_pu': 3, 'reg_pu': 3}}\n"
          ]
        }
      ],
      "source": [
        "print(gs_model.best_params)"
      ]
    },
    {
      "cell_type": "code",
      "execution_count": null,
      "metadata": {
        "colab": {
          "base_uri": "https://localhost:8080/"
        },
        "id": "_NkY3i5mTzEc",
        "outputId": "dd346116-c11c-4b28-dd92-2df690b79179"
      },
      "outputs": [
        {
          "name": "stdout",
          "output_type": "stream",
          "text": [
            "1.3936559692937995\n"
          ]
        }
      ],
      "source": [
        "# best RMSE score\n",
        "print(gs_model.best_score['rmse'])"
      ]
    },
    {
      "cell_type": "markdown",
      "metadata": {
        "id": "KLmUy7LZL-LW"
      },
      "source": [
        "# Item based Collaborative Filtering"
      ]
    },
    {
      "cell_type": "code",
      "execution_count": null,
      "metadata": {
        "id": "mpEgBAkgMDOk"
      },
      "outputs": [],
      "source": [
        "def gridSearchCV():\n",
        "  param_grid = {\n",
        "    'n_factors':[1,2],\n",
        "    'n_epochs': [10, 20, 30, 40], \n",
        "    'lr_all': [0.005, 0.007],\n",
        "    'reg_all': [0.02,0.04,0.1],\n",
        "    'lr_qi': [2,4,6],\n",
        "    'reg_qi': [2,4,6]}\n",
        "    #'reg_all': [0.02, 0.04]\n",
        "    # 'n_factors':[5, 10, 15, 20],\n",
        "  gs_model_item = GridSearchCV(algo_class=SVD, param_grid=param_grid, measures=['rmse'], cv=3)\n",
        "  return gs_model_item"
      ]
    },
    {
      "cell_type": "code",
      "execution_count": null,
      "metadata": {
        "id": "k9gtbncBjSWf"
      },
      "outputs": [],
      "source": [
        "gs_model_item = gridSearchCV()"
      ]
    },
    {
      "cell_type": "code",
      "execution_count": null,
      "metadata": {
        "id": "kIvjEsphjShn"
      },
      "outputs": [],
      "source": [
        "gs_model_item.fit(data)"
      ]
    },
    {
      "cell_type": "code",
      "execution_count": null,
      "metadata": {
        "id": "zlhUm3OcjSlP"
      },
      "outputs": [],
      "source": [
        "print(gs_model_item.best_params)"
      ]
    },
    {
      "cell_type": "code",
      "execution_count": null,
      "metadata": {
        "id": "zVo3omSpjb7a"
      },
      "outputs": [],
      "source": [
        "# best RMSE score\n",
        "print(gs_model_item.best_score['rmse'])"
      ]
    },
    {
      "cell_type": "code",
      "execution_count": null,
      "metadata": {
        "id": "3RgTAzZajb_c"
      },
      "outputs": [],
      "source": [
        ""
      ]
    },
    {
      "cell_type": "code",
      "execution_count": null,
      "metadata": {
        "id": "b3J87MHPv6j_"
      },
      "outputs": [],
      "source": [
        "def get_train_data(train_file):\n",
        "  # reader = Reader(rating_scale=(1,5))\n",
        "  # return Dataset.load_from_df(train_df[['user_id', 'item_id', 'rating']], reader=reader)\n",
        "  reader = Reader(line_format='user item rating', sep=',')\n",
        "  return Dataset.load_from_file(train_file, reader=reader)\n",
        "  # reader = Reader(line_format='user item rating timestamp', sep='\\t')\n",
        "  # return Dataset.load_from_file(train_file, reader=reader)"
      ]
    },
    {
      "cell_type": "code",
      "execution_count": null,
      "metadata": {
        "id": "dP-rSeijvfFg"
      },
      "outputs": [],
      "source": [
        "def test_model(gs_model, testset):\n",
        "  predictions = gs_model.test(testset)\n",
        "  print(\"RMSE on test set\", accuracy.rmse(predictions))"
      ]
    },
    {
      "cell_type": "code",
      "execution_count": null,
      "metadata": {
        "id": "YjSGydINUyT6"
      },
      "outputs": [],
      "source": [
        "def predict_ratings(model,test_df,format_df):\n",
        "  for index, row in test_df.iterrows():\n",
        "      uid = row[\"user_id\"]\n",
        "      iid = row[\"item_id\"]\n",
        "      pred = model.predict(str(uid), str(iid))\n",
        "      format_df.at[index] = pred.est\n",
        "  return format_df"
      ]
    },
    {
      "cell_type": "code",
      "execution_count": null,
      "metadata": {
        "id": "imAyMgm9Natc"
      },
      "outputs": [],
      "source": [
        "def gridSearchCV():\n",
        "  param_grid = {\n",
        "    'n_factors':[1,2],\n",
        "    'n_epochs': [10, 20, 30, 40], \n",
        "    'lr_all': [0.005, 0.007],\n",
        "    'reg_all': [0.02,0.04,0.1]}\n",
        "    #'reg_all': [0.02, 0.04]\n",
        "    # 'n_factors':[5, 10, 15, 20],\n",
        "  gs_model = GridSearchCV(algo_class=SVD, param_grid=param_grid, measures=['rmse'], cv=3)\n",
        "  return gs_model"
      ]
    },
    {
      "cell_type": "code",
      "execution_count": null,
      "metadata": {
        "id": "lGFlCeu4WmtF"
      },
      "outputs": [],
      "source": [
        "def main():\n",
        "  train_df, test_df, format_df = create_dataframes()\n",
        "  print(train_df.dtypes)\n",
        "  train_df = train_df.drop(['timestamp'], axis=1)\n",
        "  train_df.to_csv('train_processed.dat',index=False, header=False)\n",
        "  print(train_df.dtypes)\n",
        "  train_data = get_train_data('train_processed.dat')\n",
        "  # train_data = get_train_data(train_df)\n",
        "  cv_train_set, testset = train_test_split(train_data,test_size=0.2) \n",
        "  gs_model = gridSearchCV()\n",
        "  gs_model.fit(train_data)\n",
        "  print(gs_model.best_params)\n",
        "  print(\"RMSE on train set\", gs_model.best_score['rmse'])\n",
        "  algo = gs_model.best_estimator['rmse']\n",
        "  algo.fit(train_data.build_full_trainset())\n",
        "  test_model(algo, testset)\n",
        "  predict_ratings(algo,test_df,format_df)\n",
        "  format_df.to_csv('format7.dat',index=False, header=False)"
      ]
    },
    {
      "cell_type": "code",
      "execution_count": null,
      "metadata": {
        "colab": {
          "base_uri": "https://localhost:8080/"
        },
        "id": "hbqhgvmBqEC_",
        "outputId": "d050d4a8-f389-4037-d894-78712b1f0dba"
      },
      "outputs": [
        {
          "name": "stdout",
          "output_type": "stream",
          "text": [
            "user_id      int64\n",
            "item_id      int64\n",
            "rating       int64\n",
            "timestamp    int64\n",
            "dtype: object\n",
            "user_id    int64\n",
            "item_id    int64\n",
            "rating     int64\n",
            "dtype: object\n",
            "{'rmse': {'n_factors': 2, 'n_epochs': 30, 'lr_all': 0.007, 'reg_all': 0.04}}\n",
            "RMSE on train set 0.9408690742918076\n",
            "RMSE: 0.8732\n",
            "RMSE on test set 0.8732354694465266\n"
          ]
        }
      ],
      "source": [
        "main()"
      ]
    }
  ],
  "metadata": {
    "colab": {
      "collapsed_sections": [],
      "name": "Recommeder_SVD",
      "provenance": []
    },
    "kernelspec": {
      "display_name": "Python 3",
      "name": "python3"
    },
    "language_info": {
      "name": "python"
    }
  },
  "nbformat": 4,
  "nbformat_minor": 0
}