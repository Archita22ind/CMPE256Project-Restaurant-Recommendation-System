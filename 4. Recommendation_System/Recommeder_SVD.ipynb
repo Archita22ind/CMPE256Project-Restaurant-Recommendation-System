{
  "cells": [
    {
      "cell_type": "code",
      "execution_count": 6,
      "metadata": {
        "colab": {
          "base_uri": "https://localhost:8080/"
        },
        "id": "R8IZgBIGKNbF",
        "outputId": "15d739bf-3e01-4219-a5a7-05f61f6222fd"
      },
      "outputs": [
        {
          "output_type": "stream",
          "name": "stdout",
          "text": [
            "Mounted at /content/drive\n"
          ]
        }
      ],
      "source": [
        "from google.colab import drive\n",
        "drive.mount('/content/drive')"
      ]
    },
    {
      "cell_type": "code",
      "execution_count": 7,
      "metadata": {
        "id": "O4ZmMnlizex0"
      },
      "outputs": [],
      "source": [
        "ca_users_path = '/content/drive/MyDrive/CMPE256/Data/CSVfiles/CA_users.csv'\n",
        "ca_review_path = '/content/drive/MyDrive/CMPE256/Data/CSVfiles/California_reviews.csv'\n",
        "business_path = '/content/drive/MyDrive/CMPE256/Data/CSVfiles/business.csv'"
      ]
    },
    {
      "cell_type": "code",
      "execution_count": 8,
      "metadata": {
        "colab": {
          "base_uri": "https://localhost:8080/"
        },
        "id": "FeJW1GdCKbpk",
        "outputId": "16ce512f-e27d-4669-db50-67afb5a2d522"
      },
      "outputs": [
        {
          "output_type": "stream",
          "name": "stdout",
          "text": [
            "Collecting scikit-surprise\n",
            "  Downloading scikit-surprise-1.1.1.tar.gz (11.8 MB)\n",
            "\u001b[K     |████████████████████████████████| 11.8 MB 11.4 MB/s \n",
            "\u001b[?25hRequirement already satisfied: joblib>=0.11 in /usr/local/lib/python3.7/dist-packages (from scikit-surprise) (1.1.0)\n",
            "Requirement already satisfied: numpy>=1.11.2 in /usr/local/lib/python3.7/dist-packages (from scikit-surprise) (1.21.6)\n",
            "Requirement already satisfied: scipy>=1.0.0 in /usr/local/lib/python3.7/dist-packages (from scikit-surprise) (1.4.1)\n",
            "Requirement already satisfied: six>=1.10.0 in /usr/local/lib/python3.7/dist-packages (from scikit-surprise) (1.15.0)\n",
            "Building wheels for collected packages: scikit-surprise\n",
            "  Building wheel for scikit-surprise (setup.py) ... \u001b[?25l\u001b[?25hdone\n",
            "  Created wheel for scikit-surprise: filename=scikit_surprise-1.1.1-cp37-cp37m-linux_x86_64.whl size=1630117 sha256=35edcdd684a9245d21062c71e6cfbe9967f7efaa6e8842bb900372fdf0905e83\n",
            "  Stored in directory: /root/.cache/pip/wheels/76/44/74/b498c42be47b2406bd27994e16c5188e337c657025ab400c1c\n",
            "Successfully built scikit-surprise\n",
            "Installing collected packages: scikit-surprise\n",
            "Successfully installed scikit-surprise-1.1.1\n"
          ]
        }
      ],
      "source": [
        "!pip install scikit-surprise\n",
        "from surprise import SVD, SVDpp"
      ]
    },
    {
      "cell_type": "code",
      "execution_count": 9,
      "metadata": {
        "id": "9W4U6-ENLSUs"
      },
      "outputs": [],
      "source": [
        "import pandas as pd\n",
        "from surprise import Dataset, Reader\n",
        "from surprise import accuracy\n",
        "from surprise.model_selection import train_test_split\n",
        "from surprise.model_selection import GridSearchCV\n",
        "from surprise.model_selection import KFold\n",
        "import matplotlib.pyplot as plt\n",
        "\n",
        "\n",
        "# from surprise.prediction_algorithms.matrix_factorization import SVDpp"
      ]
    },
    {
      "cell_type": "markdown",
      "metadata": {
        "id": "psuK1yAM7N-4"
      },
      "source": [
        "# Creating Dataframes"
      ]
    },
    {
      "cell_type": "code",
      "execution_count": 10,
      "metadata": {
        "id": "r4SaQOGG018q"
      },
      "outputs": [],
      "source": [
        "reviews = pd.read_csv(ca_review_path, usecols= ['business_id', 'stars', 'review_id', 'user_id'])\n",
        "business = pd.read_csv(business_path, usecols= ['business_id', 'name'])\n",
        "users = pd.read_csv(ca_users_path, usecols= ['user_id', 'is_elite'])"
      ]
    },
    {
      "cell_type": "markdown",
      "source": [
        "Since users and business dataframe both have the same column names we will update them accordingly\n"
      ],
      "metadata": {
        "id": "oCZ_4VzVy7Wv"
      }
    },
    {
      "cell_type": "code",
      "execution_count": 11,
      "metadata": {
        "id": "RU4FArI012DR"
      },
      "outputs": [],
      "source": [
        "users = users.rename(columns = { 'name': 'Username' })\n",
        "business = business.rename(columns = { 'name': 'Restaurant name' })"
      ]
    },
    {
      "cell_type": "code",
      "execution_count": 12,
      "metadata": {
        "colab": {
          "base_uri": "https://localhost:8080/",
          "height": 206
        },
        "id": "RiswGdjd1543",
        "outputId": "008654db-d938-4727-9e38-c55319780be7"
      },
      "outputs": [
        {
          "output_type": "execute_result",
          "data": {
            "text/plain": [
              "                review_id                 user_id             business_id  \\\n",
              "0  pUycOfUwM8vqX7KjRRhUEA  59MxRhNVhU9MYndMkz0wtw  gebiRewfieSdtt17PTW6Zg   \n",
              "1  eCiWBf1CJ0Zdv1uVarEhhw  OhECKhQEexFypOMY6kypRw  vC2qm1y3Au5czBtbhc-DNw   \n",
              "2  YbMyvlDA2W3Py5lTz8VK-A  4hBhtCSgoxkrFgHa4YAD-w  bbEXAEFr4RYHLlZ-HFssTA   \n",
              "3  L0jv8c2FbpWSlfNC6bbUEA  bFPdtzu11Oi0f92EAcjqmg  IDtLPgUrqorrpqSLdfMhZQ   \n",
              "4  4zopEEPqfwm-c_FNpeHZYw  JYYYKt6TdVA4ng9lLcXt_g  SZU9c8V2GuREDN5KgyHFJw   \n",
              "\n",
              "   stars  \n",
              "0    3.0  \n",
              "1    4.0  \n",
              "2    5.0  \n",
              "3    5.0  \n",
              "4    5.0  "
            ],
            "text/html": [
              "\n",
              "  <div id=\"df-ad9f3402-9a88-45fb-bbcf-cc7d737f4c42\">\n",
              "    <div class=\"colab-df-container\">\n",
              "      <div>\n",
              "<style scoped>\n",
              "    .dataframe tbody tr th:only-of-type {\n",
              "        vertical-align: middle;\n",
              "    }\n",
              "\n",
              "    .dataframe tbody tr th {\n",
              "        vertical-align: top;\n",
              "    }\n",
              "\n",
              "    .dataframe thead th {\n",
              "        text-align: right;\n",
              "    }\n",
              "</style>\n",
              "<table border=\"1\" class=\"dataframe\">\n",
              "  <thead>\n",
              "    <tr style=\"text-align: right;\">\n",
              "      <th></th>\n",
              "      <th>review_id</th>\n",
              "      <th>user_id</th>\n",
              "      <th>business_id</th>\n",
              "      <th>stars</th>\n",
              "    </tr>\n",
              "  </thead>\n",
              "  <tbody>\n",
              "    <tr>\n",
              "      <th>0</th>\n",
              "      <td>pUycOfUwM8vqX7KjRRhUEA</td>\n",
              "      <td>59MxRhNVhU9MYndMkz0wtw</td>\n",
              "      <td>gebiRewfieSdtt17PTW6Zg</td>\n",
              "      <td>3.0</td>\n",
              "    </tr>\n",
              "    <tr>\n",
              "      <th>1</th>\n",
              "      <td>eCiWBf1CJ0Zdv1uVarEhhw</td>\n",
              "      <td>OhECKhQEexFypOMY6kypRw</td>\n",
              "      <td>vC2qm1y3Au5czBtbhc-DNw</td>\n",
              "      <td>4.0</td>\n",
              "    </tr>\n",
              "    <tr>\n",
              "      <th>2</th>\n",
              "      <td>YbMyvlDA2W3Py5lTz8VK-A</td>\n",
              "      <td>4hBhtCSgoxkrFgHa4YAD-w</td>\n",
              "      <td>bbEXAEFr4RYHLlZ-HFssTA</td>\n",
              "      <td>5.0</td>\n",
              "    </tr>\n",
              "    <tr>\n",
              "      <th>3</th>\n",
              "      <td>L0jv8c2FbpWSlfNC6bbUEA</td>\n",
              "      <td>bFPdtzu11Oi0f92EAcjqmg</td>\n",
              "      <td>IDtLPgUrqorrpqSLdfMhZQ</td>\n",
              "      <td>5.0</td>\n",
              "    </tr>\n",
              "    <tr>\n",
              "      <th>4</th>\n",
              "      <td>4zopEEPqfwm-c_FNpeHZYw</td>\n",
              "      <td>JYYYKt6TdVA4ng9lLcXt_g</td>\n",
              "      <td>SZU9c8V2GuREDN5KgyHFJw</td>\n",
              "      <td>5.0</td>\n",
              "    </tr>\n",
              "  </tbody>\n",
              "</table>\n",
              "</div>\n",
              "      <button class=\"colab-df-convert\" onclick=\"convertToInteractive('df-ad9f3402-9a88-45fb-bbcf-cc7d737f4c42')\"\n",
              "              title=\"Convert this dataframe to an interactive table.\"\n",
              "              style=\"display:none;\">\n",
              "        \n",
              "  <svg xmlns=\"http://www.w3.org/2000/svg\" height=\"24px\"viewBox=\"0 0 24 24\"\n",
              "       width=\"24px\">\n",
              "    <path d=\"M0 0h24v24H0V0z\" fill=\"none\"/>\n",
              "    <path d=\"M18.56 5.44l.94 2.06.94-2.06 2.06-.94-2.06-.94-.94-2.06-.94 2.06-2.06.94zm-11 1L8.5 8.5l.94-2.06 2.06-.94-2.06-.94L8.5 2.5l-.94 2.06-2.06.94zm10 10l.94 2.06.94-2.06 2.06-.94-2.06-.94-.94-2.06-.94 2.06-2.06.94z\"/><path d=\"M17.41 7.96l-1.37-1.37c-.4-.4-.92-.59-1.43-.59-.52 0-1.04.2-1.43.59L10.3 9.45l-7.72 7.72c-.78.78-.78 2.05 0 2.83L4 21.41c.39.39.9.59 1.41.59.51 0 1.02-.2 1.41-.59l7.78-7.78 2.81-2.81c.8-.78.8-2.07 0-2.86zM5.41 20L4 18.59l7.72-7.72 1.47 1.35L5.41 20z\"/>\n",
              "  </svg>\n",
              "      </button>\n",
              "      \n",
              "  <style>\n",
              "    .colab-df-container {\n",
              "      display:flex;\n",
              "      flex-wrap:wrap;\n",
              "      gap: 12px;\n",
              "    }\n",
              "\n",
              "    .colab-df-convert {\n",
              "      background-color: #E8F0FE;\n",
              "      border: none;\n",
              "      border-radius: 50%;\n",
              "      cursor: pointer;\n",
              "      display: none;\n",
              "      fill: #1967D2;\n",
              "      height: 32px;\n",
              "      padding: 0 0 0 0;\n",
              "      width: 32px;\n",
              "    }\n",
              "\n",
              "    .colab-df-convert:hover {\n",
              "      background-color: #E2EBFA;\n",
              "      box-shadow: 0px 1px 2px rgba(60, 64, 67, 0.3), 0px 1px 3px 1px rgba(60, 64, 67, 0.15);\n",
              "      fill: #174EA6;\n",
              "    }\n",
              "\n",
              "    [theme=dark] .colab-df-convert {\n",
              "      background-color: #3B4455;\n",
              "      fill: #D2E3FC;\n",
              "    }\n",
              "\n",
              "    [theme=dark] .colab-df-convert:hover {\n",
              "      background-color: #434B5C;\n",
              "      box-shadow: 0px 1px 3px 1px rgba(0, 0, 0, 0.15);\n",
              "      filter: drop-shadow(0px 1px 2px rgba(0, 0, 0, 0.3));\n",
              "      fill: #FFFFFF;\n",
              "    }\n",
              "  </style>\n",
              "\n",
              "      <script>\n",
              "        const buttonEl =\n",
              "          document.querySelector('#df-ad9f3402-9a88-45fb-bbcf-cc7d737f4c42 button.colab-df-convert');\n",
              "        buttonEl.style.display =\n",
              "          google.colab.kernel.accessAllowed ? 'block' : 'none';\n",
              "\n",
              "        async function convertToInteractive(key) {\n",
              "          const element = document.querySelector('#df-ad9f3402-9a88-45fb-bbcf-cc7d737f4c42');\n",
              "          const dataTable =\n",
              "            await google.colab.kernel.invokeFunction('convertToInteractive',\n",
              "                                                     [key], {});\n",
              "          if (!dataTable) return;\n",
              "\n",
              "          const docLinkHtml = 'Like what you see? Visit the ' +\n",
              "            '<a target=\"_blank\" href=https://colab.research.google.com/notebooks/data_table.ipynb>data table notebook</a>'\n",
              "            + ' to learn more about interactive tables.';\n",
              "          element.innerHTML = '';\n",
              "          dataTable['output_type'] = 'display_data';\n",
              "          await google.colab.output.renderOutput(dataTable, element);\n",
              "          const docLink = document.createElement('div');\n",
              "          docLink.innerHTML = docLinkHtml;\n",
              "          element.appendChild(docLink);\n",
              "        }\n",
              "      </script>\n",
              "    </div>\n",
              "  </div>\n",
              "  "
            ]
          },
          "metadata": {},
          "execution_count": 12
        }
      ],
      "source": [
        "reviews.columns\n",
        "reviews.head()"
      ]
    },
    {
      "cell_type": "code",
      "execution_count": 13,
      "metadata": {
        "colab": {
          "base_uri": "https://localhost:8080/"
        },
        "id": "O2da-wWq1-IO",
        "outputId": "e363d459-b33e-4645-b287-6890c2bc8626"
      },
      "outputs": [
        {
          "output_type": "execute_result",
          "data": {
            "text/plain": [
              "Index(['business_id', 'Restaurant name'], dtype='object')"
            ]
          },
          "metadata": {},
          "execution_count": 13
        }
      ],
      "source": [
        "\n",
        "business.columns\n"
      ]
    },
    {
      "cell_type": "code",
      "execution_count": 14,
      "metadata": {
        "colab": {
          "base_uri": "https://localhost:8080/"
        },
        "id": "V6JOLbhn2Bz-",
        "outputId": "5f10c61f-7305-4ee2-e109-3dc95c49a52b"
      },
      "outputs": [
        {
          "output_type": "execute_result",
          "data": {
            "text/plain": [
              "Index(['user_id', 'is_elite'], dtype='object')"
            ]
          },
          "metadata": {},
          "execution_count": 14
        }
      ],
      "source": [
        "users.columns\n"
      ]
    },
    {
      "cell_type": "code",
      "execution_count": 15,
      "metadata": {
        "colab": {
          "base_uri": "https://localhost:8080/",
          "height": 206
        },
        "id": "79KzkMiP2F7G",
        "outputId": "80fd8536-07ae-4095-c1ba-6e0582603635"
      },
      "outputs": [
        {
          "output_type": "execute_result",
          "data": {
            "text/plain": [
              "                  user_id  is_elite\n",
              "0  qVc8ODYU5SZjKXVBgXdI7w      True\n",
              "1  SZDeASXq7o05mMNLshsdIA      True\n",
              "2  q_QQ5kBBwlCcbL1s4NVK3g      True\n",
              "3  iYzhPPqnrjJkg1JHZyMhzA     False\n",
              "4  QF1Kuhs8iwLWANNZxebTow      True"
            ],
            "text/html": [
              "\n",
              "  <div id=\"df-52f20df1-0c16-495d-902a-f78038c797ec\">\n",
              "    <div class=\"colab-df-container\">\n",
              "      <div>\n",
              "<style scoped>\n",
              "    .dataframe tbody tr th:only-of-type {\n",
              "        vertical-align: middle;\n",
              "    }\n",
              "\n",
              "    .dataframe tbody tr th {\n",
              "        vertical-align: top;\n",
              "    }\n",
              "\n",
              "    .dataframe thead th {\n",
              "        text-align: right;\n",
              "    }\n",
              "</style>\n",
              "<table border=\"1\" class=\"dataframe\">\n",
              "  <thead>\n",
              "    <tr style=\"text-align: right;\">\n",
              "      <th></th>\n",
              "      <th>user_id</th>\n",
              "      <th>is_elite</th>\n",
              "    </tr>\n",
              "  </thead>\n",
              "  <tbody>\n",
              "    <tr>\n",
              "      <th>0</th>\n",
              "      <td>qVc8ODYU5SZjKXVBgXdI7w</td>\n",
              "      <td>True</td>\n",
              "    </tr>\n",
              "    <tr>\n",
              "      <th>1</th>\n",
              "      <td>SZDeASXq7o05mMNLshsdIA</td>\n",
              "      <td>True</td>\n",
              "    </tr>\n",
              "    <tr>\n",
              "      <th>2</th>\n",
              "      <td>q_QQ5kBBwlCcbL1s4NVK3g</td>\n",
              "      <td>True</td>\n",
              "    </tr>\n",
              "    <tr>\n",
              "      <th>3</th>\n",
              "      <td>iYzhPPqnrjJkg1JHZyMhzA</td>\n",
              "      <td>False</td>\n",
              "    </tr>\n",
              "    <tr>\n",
              "      <th>4</th>\n",
              "      <td>QF1Kuhs8iwLWANNZxebTow</td>\n",
              "      <td>True</td>\n",
              "    </tr>\n",
              "  </tbody>\n",
              "</table>\n",
              "</div>\n",
              "      <button class=\"colab-df-convert\" onclick=\"convertToInteractive('df-52f20df1-0c16-495d-902a-f78038c797ec')\"\n",
              "              title=\"Convert this dataframe to an interactive table.\"\n",
              "              style=\"display:none;\">\n",
              "        \n",
              "  <svg xmlns=\"http://www.w3.org/2000/svg\" height=\"24px\"viewBox=\"0 0 24 24\"\n",
              "       width=\"24px\">\n",
              "    <path d=\"M0 0h24v24H0V0z\" fill=\"none\"/>\n",
              "    <path d=\"M18.56 5.44l.94 2.06.94-2.06 2.06-.94-2.06-.94-.94-2.06-.94 2.06-2.06.94zm-11 1L8.5 8.5l.94-2.06 2.06-.94-2.06-.94L8.5 2.5l-.94 2.06-2.06.94zm10 10l.94 2.06.94-2.06 2.06-.94-2.06-.94-.94-2.06-.94 2.06-2.06.94z\"/><path d=\"M17.41 7.96l-1.37-1.37c-.4-.4-.92-.59-1.43-.59-.52 0-1.04.2-1.43.59L10.3 9.45l-7.72 7.72c-.78.78-.78 2.05 0 2.83L4 21.41c.39.39.9.59 1.41.59.51 0 1.02-.2 1.41-.59l7.78-7.78 2.81-2.81c.8-.78.8-2.07 0-2.86zM5.41 20L4 18.59l7.72-7.72 1.47 1.35L5.41 20z\"/>\n",
              "  </svg>\n",
              "      </button>\n",
              "      \n",
              "  <style>\n",
              "    .colab-df-container {\n",
              "      display:flex;\n",
              "      flex-wrap:wrap;\n",
              "      gap: 12px;\n",
              "    }\n",
              "\n",
              "    .colab-df-convert {\n",
              "      background-color: #E8F0FE;\n",
              "      border: none;\n",
              "      border-radius: 50%;\n",
              "      cursor: pointer;\n",
              "      display: none;\n",
              "      fill: #1967D2;\n",
              "      height: 32px;\n",
              "      padding: 0 0 0 0;\n",
              "      width: 32px;\n",
              "    }\n",
              "\n",
              "    .colab-df-convert:hover {\n",
              "      background-color: #E2EBFA;\n",
              "      box-shadow: 0px 1px 2px rgba(60, 64, 67, 0.3), 0px 1px 3px 1px rgba(60, 64, 67, 0.15);\n",
              "      fill: #174EA6;\n",
              "    }\n",
              "\n",
              "    [theme=dark] .colab-df-convert {\n",
              "      background-color: #3B4455;\n",
              "      fill: #D2E3FC;\n",
              "    }\n",
              "\n",
              "    [theme=dark] .colab-df-convert:hover {\n",
              "      background-color: #434B5C;\n",
              "      box-shadow: 0px 1px 3px 1px rgba(0, 0, 0, 0.15);\n",
              "      filter: drop-shadow(0px 1px 2px rgba(0, 0, 0, 0.3));\n",
              "      fill: #FFFFFF;\n",
              "    }\n",
              "  </style>\n",
              "\n",
              "      <script>\n",
              "        const buttonEl =\n",
              "          document.querySelector('#df-52f20df1-0c16-495d-902a-f78038c797ec button.colab-df-convert');\n",
              "        buttonEl.style.display =\n",
              "          google.colab.kernel.accessAllowed ? 'block' : 'none';\n",
              "\n",
              "        async function convertToInteractive(key) {\n",
              "          const element = document.querySelector('#df-52f20df1-0c16-495d-902a-f78038c797ec');\n",
              "          const dataTable =\n",
              "            await google.colab.kernel.invokeFunction('convertToInteractive',\n",
              "                                                     [key], {});\n",
              "          if (!dataTable) return;\n",
              "\n",
              "          const docLinkHtml = 'Like what you see? Visit the ' +\n",
              "            '<a target=\"_blank\" href=https://colab.research.google.com/notebooks/data_table.ipynb>data table notebook</a>'\n",
              "            + ' to learn more about interactive tables.';\n",
              "          element.innerHTML = '';\n",
              "          dataTable['output_type'] = 'display_data';\n",
              "          await google.colab.output.renderOutput(dataTable, element);\n",
              "          const docLink = document.createElement('div');\n",
              "          docLink.innerHTML = docLinkHtml;\n",
              "          element.appendChild(docLink);\n",
              "        }\n",
              "      </script>\n",
              "    </div>\n",
              "  </div>\n",
              "  "
            ]
          },
          "metadata": {},
          "execution_count": 15
        }
      ],
      "source": [
        "users.head()"
      ]
    },
    {
      "cell_type": "markdown",
      "metadata": {
        "id": "a2Qp8gprI1vD"
      },
      "source": [
        "## Elite Reviews Only"
      ]
    },
    {
      "cell_type": "code",
      "execution_count": 16,
      "metadata": {
        "colab": {
          "base_uri": "https://localhost:8080/"
        },
        "id": "5SogSPcxI_bZ",
        "outputId": "d8332f27-de6a-4354-c74d-a6eac66088d0"
      },
      "outputs": [
        {
          "output_type": "execute_result",
          "data": {
            "text/plain": [
              "(239065, 6)"
            ]
          },
          "metadata": {},
          "execution_count": 16
        }
      ],
      "source": [
        "elite_reviews_df = reviews.merge(users, how='left', on=['user_id'], indicator=True)\n",
        "elite_reviews_df.shape"
      ]
    },
    {
      "cell_type": "code",
      "execution_count": 17,
      "metadata": {
        "colab": {
          "base_uri": "https://localhost:8080/"
        },
        "id": "TbMDvgOcJzgR",
        "outputId": "f62c7757-12ed-4a64-aaf6-ab1e1cabfca2"
      },
      "outputs": [
        {
          "output_type": "execute_result",
          "data": {
            "text/plain": [
              "(48367, 6)"
            ]
          },
          "metadata": {},
          "execution_count": 17
        }
      ],
      "source": [
        "elite_reviews_df = elite_reviews_df.loc[elite_reviews_df['is_elite'] == True]\n",
        "elite_reviews_df.shape"
      ]
    },
    {
      "cell_type": "code",
      "execution_count": 18,
      "metadata": {
        "id": "OEDPhCk2LNdH"
      },
      "outputs": [],
      "source": [
        "reader = Reader(rating_scale=(1, 5))\n",
        "\n",
        "# The columns must correspond to user id, business id and stars (in that order).\n",
        "data = Dataset.load_from_df(elite_reviews_df[['user_id', 'business_id', 'stars']], reader)"
      ]
    },
    {
      "cell_type": "markdown",
      "source": [
        "# Collaborative filtering using cross validation and hyperparameter tuning"
      ],
      "metadata": {
        "id": "OxxwMl6E5Vmc"
      }
    },
    {
      "cell_type": "markdown",
      "metadata": {
        "id": "d0--6Uuf9aub"
      },
      "source": [
        "## 1. SVD"
      ]
    },
    {
      "cell_type": "code",
      "source": [
        "SVD_rmses = []\n",
        "kfolds_SVD = [3,5,6]\n",
        "n_split_to_best_param_grid = dict()\n",
        "n_split_to_best_rmse = dict()"
      ],
      "metadata": {
        "id": "QCeFAKUZqojp"
      },
      "execution_count": 19,
      "outputs": []
    },
    {
      "cell_type": "markdown",
      "metadata": {
        "id": "g2ZbICzxfI0F"
      },
      "source": [
        "https://surprise.readthedocs.io/en/stable/matrix_factorization.html#surprise.prediction_algorithms.matrix_factorization.SVD"
      ]
    },
    {
      "cell_type": "markdown",
      "source": [
        "###Performing cross validations with different folds"
      ],
      "metadata": {
        "id": "EmZGKMyc_BPR"
      }
    },
    {
      "cell_type": "code",
      "execution_count": 20,
      "metadata": {
        "id": "5T5C_UjpRfhj"
      },
      "outputs": [],
      "source": [
        "def crossValidation(nsplit,algo, param_grid):\n",
        "    kf = KFold(n_splits=nsplit, random_state=2,shuffle = True)\n",
        "    return GridSearchCV(algo_class=algo, param_grid = param_grid, measures=['rmse'], cv=kf)"
      ]
    },
    {
      "cell_type": "markdown",
      "source": [
        "###Calculating the best paramters for SVD model to fetch best RMSE score"
      ],
      "metadata": {
        "id": "xhfT2bno_TSa"
      }
    },
    {
      "cell_type": "code",
      "source": [
        "def SVD_hyperparamter_tuning(kfolds):\n",
        "  param_grid_SVD = {\n",
        "  'n_factors':[5,8,10,15,20,25],\n",
        "  'n_epochs': [10, 20, 30, 40], \n",
        "  'lr_all': [0.005, 0.007],\n",
        "  'reg_all': [0.01,0.03,0.05,0.07],\n",
        "  }\n",
        "  for elem in kfolds_SVD:\n",
        "    gs_model = crossValidation(elem, SVD, param_grid_SVD)\n",
        "    gs_model.fit(data)\n",
        "    print(f\"With kFold as {elem}: \", gs_model.best_params)\n",
        "    n_split_to_best_param_grid[elem] = gs_model.best_params\n",
        "    print(f\"With kFold as {elem}: \", gs_model.best_score['rmse'])\n",
        "    n_split_to_best_rmse[elem] = gs_model.best_score['rmse']"
      ],
      "metadata": {
        "id": "UI9vlCLPnFVl"
      },
      "execution_count": 21,
      "outputs": []
    },
    {
      "cell_type": "code",
      "source": [
        "SVD_hyperparamter_tuning(kfolds_SVD)"
      ],
      "metadata": {
        "colab": {
          "base_uri": "https://localhost:8080/"
        },
        "id": "xxzTMs197AvV",
        "outputId": "cfe16e37-8465-4cf5-951d-36be9671e1e0"
      },
      "execution_count": 22,
      "outputs": [
        {
          "output_type": "stream",
          "name": "stdout",
          "text": [
            "With kFold as 3:  {'rmse': {'n_factors': 8, 'n_epochs': 20, 'lr_all': 0.007, 'reg_all': 0.07}}\n",
            "With kFold as 3:  0.936755728700514\n",
            "With kFold as 5:  {'rmse': {'n_factors': 15, 'n_epochs': 20, 'lr_all': 0.007, 'reg_all': 0.07}}\n",
            "With kFold as 5:  0.9338945407646622\n",
            "With kFold as 6:  {'rmse': {'n_factors': 25, 'n_epochs': 30, 'lr_all': 0.005, 'reg_all': 0.07}}\n",
            "With kFold as 6:  0.931799275382302\n"
          ]
        }
      ]
    },
    {
      "cell_type": "code",
      "source": [
        "print(n_split_to_best_param_grid)"
      ],
      "metadata": {
        "id": "2CI9kR8--X-G",
        "colab": {
          "base_uri": "https://localhost:8080/"
        },
        "outputId": "aa20f236-65f6-4759-a10e-eb64f3fa0d6d"
      },
      "execution_count": 23,
      "outputs": [
        {
          "output_type": "stream",
          "name": "stdout",
          "text": [
            "{3: {'rmse': {'n_factors': 8, 'n_epochs': 20, 'lr_all': 0.007, 'reg_all': 0.07}}, 5: {'rmse': {'n_factors': 15, 'n_epochs': 20, 'lr_all': 0.007, 'reg_all': 0.07}}, 6: {'rmse': {'n_factors': 25, 'n_epochs': 30, 'lr_all': 0.005, 'reg_all': 0.07}}}\n"
          ]
        }
      ]
    },
    {
      "cell_type": "code",
      "source": [
        "def fetch_params(param_grid):\n",
        "    return param_grid['n_factors'], param_grid['n_epochs'], param_grid['lr_all'], param_grid['reg_all']\n",
        "   \n",
        "# for n_split,param_grid in n_split_to_best_param_grid.items():\n",
        "#   fetch_params(param_grid['rmse'])"
      ],
      "metadata": {
        "id": "HLUayRP28_LN"
      },
      "execution_count": 24,
      "outputs": []
    },
    {
      "cell_type": "markdown",
      "source": [
        "###1. Training the model over the trainset with the hyperparamters\n",
        "###2. Evaluating the model over the testset to check how does it perform"
      ],
      "metadata": {
        "id": "PyAWLsfR_jX2"
      }
    },
    {
      "cell_type": "code",
      "source": [
        "def train_and_test_model():\n",
        "  SVD_rmses = []\n",
        "  for n_split,param_grid in n_split_to_best_param_grid.items():\n",
        "    n_factors, n_epochs, lr_all, reg_all = fetch_params(param_grid['rmse'])\n",
        "    kf = KFold(n_splits=n_split)\n",
        "    algo = SVD(n_factors = n_factors, n_epochs = n_epochs, lr_all = lr_all, reg_all = reg_all)\n",
        "    scores = []\n",
        "    for trainset, testset in kf.split(data):\n",
        "        # train and test algorithm.\n",
        "        algo.fit(trainset)\n",
        "        predictions = algo.test(testset)\n",
        "        # Compute and print Root Mean Squared Error\n",
        "        print(f\"RMSE for {n_split}:\")\n",
        "        rmse = accuracy.rmse(predictions)\n",
        "        scores.append(rmse)\n",
        "        # print(f\"RMSE for {n_split}: \",rmse)\n",
        "    SVD_rmses.append(min(scores))\n",
        "  return SVD_rmses"
      ],
      "metadata": {
        "id": "kNqfqGctVTqD"
      },
      "execution_count": 25,
      "outputs": []
    },
    {
      "cell_type": "code",
      "source": [
        "SVD_rmses = train_and_test_model()"
      ],
      "metadata": {
        "id": "NVmQV08V6OJo",
        "colab": {
          "base_uri": "https://localhost:8080/"
        },
        "outputId": "645578e4-14a4-4007-e32a-d411443cd3bc"
      },
      "execution_count": 26,
      "outputs": [
        {
          "output_type": "stream",
          "name": "stdout",
          "text": [
            "RMSE for 3:\n",
            "RMSE: 0.9462\n",
            "RMSE for 3:\n",
            "RMSE: 0.9354\n",
            "RMSE for 3:\n",
            "RMSE: 0.9297\n",
            "RMSE for 5:\n",
            "RMSE: 0.9315\n",
            "RMSE for 5:\n",
            "RMSE: 0.9343\n",
            "RMSE for 5:\n",
            "RMSE: 0.9380\n",
            "RMSE for 5:\n",
            "RMSE: 0.9304\n",
            "RMSE for 5:\n",
            "RMSE: 0.9381\n",
            "RMSE for 6:\n",
            "RMSE: 0.9308\n",
            "RMSE for 6:\n",
            "RMSE: 0.9458\n",
            "RMSE for 6:\n",
            "RMSE: 0.9253\n",
            "RMSE for 6:\n",
            "RMSE: 0.9450\n",
            "RMSE for 6:\n",
            "RMSE: 0.9406\n",
            "RMSE for 6:\n",
            "RMSE: 0.9218\n"
          ]
        }
      ]
    },
    {
      "cell_type": "code",
      "source": [
        "print(SVD_rmses)\n",
        "def plot(kfolds, rmses, algo):\n",
        "  plt.plot(kfolds, rmses)\n",
        "  plt.ylabel('RMSE Scores')\n",
        "  plt.xlabel('k splits')\n",
        "  plt.savefig(f\"{algo}_RMSE_to_k_splits.png\")"
      ],
      "metadata": {
        "id": "Fni54R1grjE2",
        "colab": {
          "base_uri": "https://localhost:8080/"
        },
        "outputId": "306479ac-8e80-402d-e6ec-c7a0824aa1a6"
      },
      "execution_count": 27,
      "outputs": [
        {
          "output_type": "stream",
          "name": "stdout",
          "text": [
            "[0.9296990220742862, 0.9304214086581829, 0.9218375476615595]\n"
          ]
        }
      ]
    },
    {
      "cell_type": "code",
      "source": [
        "kfolds_SVD = [3,5,6]\n",
        "plot(kfolds_SVD, SVD_rmses, \"SVD\")"
      ],
      "metadata": {
        "id": "FsgRSA_rv942",
        "colab": {
          "base_uri": "https://localhost:8080/",
          "height": 279
        },
        "outputId": "1c0b1cee-76c0-4cea-c051-3cf315f97600"
      },
      "execution_count": 28,
      "outputs": [
        {
          "output_type": "display_data",
          "data": {
            "text/plain": [
              "<Figure size 432x288 with 1 Axes>"
            ],
            "image/png": "[encoded data removed]"
          },
          "metadata": {
            "needs_background": "light"
          }
        }
      ]
    },
    {
      "cell_type": "markdown",
      "source": [
        "## 2. SVDpp"
      ],
      "metadata": {
        "id": "3xbSb-NN39L9"
      }
    },
    {
      "cell_type": "code",
      "source": [
        "SVDpp_rmses = []\n",
        "kfolds_SVDpp = [3,5,6]\n",
        "n_split_to_best_param_grid_SVDpp = dict()\n",
        "n_split_to_best_rmse_SVDpp = dict()"
      ],
      "metadata": {
        "id": "mx_NuDKWtCIX"
      },
      "execution_count": 29,
      "outputs": []
    },
    {
      "cell_type": "code",
      "source": [
        "def SVDpp_hyperparamter_tuning(kfolds):\n",
        "  param_grid_SVDpp = {\n",
        "    'n_factors':[5,8,10,15,20],\n",
        "    'n_epochs': [20,30,40], \n",
        "    'lr_all': [0.005, 0.007],\n",
        "    'reg_all': [0.05,0.07],\n",
        "  }\n",
        "  for elem in kfolds:\n",
        "    gs_model = crossValidation(elem, SVDpp, param_grid_SVDpp)\n",
        "    gs_model.fit(data)\n",
        "    print(f\"With kFold as {elem}: \", gs_model.best_params)\n",
        "    n_split_to_best_param_grid_SVDpp[elem] = gs_model.best_params\n",
        "    print(f\"With kFold as {elem}: \", gs_model.best_score['rmse'])\n",
        "    n_split_to_best_rmse_SVDpp[elem] = gs_model.best_score['rmse']"
      ],
      "metadata": {
        "id": "4aDPbWna3_yg"
      },
      "execution_count": 32,
      "outputs": []
    },
    {
      "cell_type": "code",
      "source": [
        "SVDpp_hyperparamter_tuning(kfolds_SVDpp)"
      ],
      "metadata": {
        "id": "96tqk3hjwsNR",
        "colab": {
          "base_uri": "https://localhost:8080/"
        },
        "outputId": "17a290b3-1876-4894-e40c-1bcd9e5c057f"
      },
      "execution_count": null,
      "outputs": [
        {
          "metadata": {
            "tags": null
          },
          "name": "stdout",
          "output_type": "stream",
          "text": [
            "With kFold as 3:  {'rmse': {'n_factors': 10, 'n_epochs': 20, 'lr_all': 0.007, 'reg_all': 0.07}}\n",
            "With kFold as 3:  0.9365338521996399\n"
          ]
        }
      ]
    },
    {
      "cell_type": "code",
      "source": [
        "def train_and_test_model_SVDpp():\n",
        "  SVD_rmsespp = []\n",
        "  for n_split,param_grid in n_split_to_best_param_grid_SVDpp.items():\n",
        "    n_factors, n_epochs, lr_all, reg_all = fetch_params(param_grid['rmse'])\n",
        "    kf = KFold(n_splits=n_split)\n",
        "    algo = SVDpp(n_factors = n_factors, n_epochs = n_epochs, lr_all = lr_all, reg_all = reg_all)\n",
        "    scores = []\n",
        "    for trainset, testset in kf.split(data):\n",
        "        # train and test algorithm.\n",
        "        algo.fit(trainset)\n",
        "        predictions = algo.test(testset)\n",
        "        # Compute and print Root Mean Squared Error\n",
        "        print(f\"RMSE for {n_split}:\")\n",
        "        rmse = accuracy.rmse(predictions)\n",
        "        scores.append(rmse)\n",
        "        # print(f\"RMSE for {n_split}: \",rmse)\n",
        "    SVDpp_rmses.append(min(scores))\n",
        "  return SVDpp_rmses"
      ],
      "metadata": {
        "id": "pnHul0tPrEzo"
      },
      "execution_count": null,
      "outputs": []
    },
    {
      "cell_type": "code",
      "source": [
        "SVDpp_rmses = train_and_test_model_SVDpp()"
      ],
      "metadata": {
        "id": "Fr4zd3ydrNxp"
      },
      "execution_count": null,
      "outputs": []
    },
    {
      "cell_type": "code",
      "source": [
        "plot(kfolds_SVDpp, SVDpp_rmses, \"SVDpp\")"
      ],
      "metadata": {
        "id": "8Ie8Bfiwrayy"
      },
      "execution_count": null,
      "outputs": []
    },
    {
      "cell_type": "markdown",
      "source": [
        "##Comparing SVD versus SVDpp"
      ],
      "metadata": {
        "id": "571UOpKEsygW"
      }
    },
    {
      "cell_type": "code",
      "source": [
        "plt.plot(kfolds_SVDpp, SVDpp_rmses)\n",
        "plt.plot(kfolds_SVD, SVD_rmses)\n",
        "plt.ylabel('RMSE Scores')\n",
        "plt.xlabel('k splits')\n",
        "plt.savefig(\"SVD_versusus_SVDpp_RMSE_to_k_splits.png\")"
      ],
      "metadata": {
        "id": "SLO2Q1LQs2n6"
      },
      "execution_count": null,
      "outputs": []
    }
  ],
  "metadata": {
    "colab": {
      "collapsed_sections": [],
      "name": "Recommeder_SVD",
      "provenance": []
    },
    "kernelspec": {
      "display_name": "Python 3",
      "name": "python3"
    },
    "language_info": {
      "name": "python"
    }
  },
  "nbformat": 4,
  "nbformat_minor": 0
}