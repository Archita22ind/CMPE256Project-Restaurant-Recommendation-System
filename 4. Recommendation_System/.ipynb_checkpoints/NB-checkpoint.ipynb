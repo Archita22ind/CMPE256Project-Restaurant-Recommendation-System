{
 "cells": [
  {
   "cell_type": "code",
   "execution_count": 1,
   "id": "ea798bfb",
   "metadata": {},
   "outputs": [],
   "source": [
    "import time\n",
    "import nltk\n",
    "\n",
    "# basic imports\n",
    "import pandas as pd\n",
    "import numpy as np\n",
    "import string\n",
    "import warnings\n",
    "warnings.filterwarnings('ignore')\n",
    "\n",
    "#imports for visualisations\n",
    "import matplotlib.pyplot as plt\n",
    "\n",
    "# importing libraries for NLP\n",
    "import nltk\n",
    "from nltk.corpus import stopwords\n",
    "from sklearn.feature_extraction.text import TfidfVectorizer, CountVectorizer\n",
    "\n",
    "#importing libraries for modelling\n",
    "import sklearn.metrics as metrics\n",
    "from sklearn.metrics.pairwise import linear_kernel, cosine_similarity\n",
    "from sklearn.naive_bayes import MultinomialNB\n",
    "from sklearn.model_selection import train_test_split\n",
    "from sklearn.metrics import confusion_matrix, classification_report\n",
    "from scipy.spatial.distance import correlation"
   ]
  },
  {
   "cell_type": "code",
   "execution_count": 2,
   "id": "14eaeb48",
   "metadata": {},
   "outputs": [
    {
     "name": "stderr",
     "output_type": "stream",
     "text": [
      "[nltk_data] Downloading package stopwords to\n",
      "[nltk_data]     /Users/archie/nltk_data...\n",
      "[nltk_data]   Package stopwords is already up-to-date!\n"
     ]
    },
    {
     "data": {
      "text/plain": [
       "True"
      ]
     },
     "execution_count": 2,
     "metadata": {},
     "output_type": "execute_result"
    }
   ],
   "source": [
    "nltk.download('stopwords')"
   ]
  },
  {
   "cell_type": "code",
   "execution_count": 3,
   "id": "553e73f6",
   "metadata": {},
   "outputs": [],
   "source": [
    "# from google.colab import drive\n",
    "# drive.mount('/content/drive')"
   ]
  },
  {
   "cell_type": "code",
   "execution_count": 4,
   "id": "46b098b9",
   "metadata": {},
   "outputs": [],
   "source": [
    "## Importing data\n",
    "# /Users/archie/Desktop/new 256 project folder/CMPE256Project/2. Data_Cleaning/Clean_data_files\n",
    "review = pd.read_csv('../2. Data_Cleaning/Clean_data_files/California_reviews_c.csv',usecols= ['business_id', 'stars', 'review_id', 'user_id','text'])\n",
    "business = pd.read_csv('../2. Data_Cleaning/Clean_data_files/business.csv', index_col=0)\n",
    "users = pd.read_csv('../2. Data_Cleaning/Clean_data_files/CA_users.csv', usecols= ['user_id', 'is_elite'])"
   ]
  },
  {
   "cell_type": "code",
   "execution_count": 5,
   "id": "f8efe3b4",
   "metadata": {},
   "outputs": [],
   "source": [
    "review['categories'] = business['category']"
   ]
  },
  {
   "cell_type": "code",
   "execution_count": 6,
   "id": "ba98ab7a",
   "metadata": {},
   "outputs": [
    {
     "data": {
      "text/html": [
       "<div>\n",
       "<style scoped>\n",
       "    .dataframe tbody tr th:only-of-type {\n",
       "        vertical-align: middle;\n",
       "    }\n",
       "\n",
       "    .dataframe tbody tr th {\n",
       "        vertical-align: top;\n",
       "    }\n",
       "\n",
       "    .dataframe thead th {\n",
       "        text-align: right;\n",
       "    }\n",
       "</style>\n",
       "<table border=\"1\" class=\"dataframe\">\n",
       "  <thead>\n",
       "    <tr style=\"text-align: right;\">\n",
       "      <th></th>\n",
       "      <th>business_id</th>\n",
       "      <th>name</th>\n",
       "      <th>address</th>\n",
       "      <th>city</th>\n",
       "      <th>state</th>\n",
       "      <th>postal_code</th>\n",
       "      <th>latitude</th>\n",
       "      <th>longitude</th>\n",
       "      <th>stars</th>\n",
       "      <th>review_count</th>\n",
       "      <th>...</th>\n",
       "      <th>RestaurantsAttire</th>\n",
       "      <th>DogsAllowed</th>\n",
       "      <th>Smoking</th>\n",
       "      <th>RestaurantsTableService</th>\n",
       "      <th>RestaurantsTakeOut</th>\n",
       "      <th>CoatCheck</th>\n",
       "      <th>Corkage</th>\n",
       "      <th>HappyHour</th>\n",
       "      <th>DriveThru</th>\n",
       "      <th>OutdoorSeating</th>\n",
       "    </tr>\n",
       "  </thead>\n",
       "  <tbody>\n",
       "    <tr>\n",
       "      <th>0</th>\n",
       "      <td>IDtLPgUrqorrpqSLdfMhZQ</td>\n",
       "      <td>Helena Avenue Bakery</td>\n",
       "      <td>131 Anacapa St, Ste C</td>\n",
       "      <td>Santa Barbara</td>\n",
       "      <td>CA</td>\n",
       "      <td>93101</td>\n",
       "      <td>34.414445</td>\n",
       "      <td>-119.690672</td>\n",
       "      <td>4.0</td>\n",
       "      <td>389</td>\n",
       "      <td>...</td>\n",
       "      <td>'casual'</td>\n",
       "      <td>True</td>\n",
       "      <td>NaN</td>\n",
       "      <td>False</td>\n",
       "      <td>True</td>\n",
       "      <td>NaN</td>\n",
       "      <td>NaN</td>\n",
       "      <td>False</td>\n",
       "      <td>NaN</td>\n",
       "      <td>True</td>\n",
       "    </tr>\n",
       "    <tr>\n",
       "      <th>1</th>\n",
       "      <td>SZU9c8V2GuREDN5KgyHFJw</td>\n",
       "      <td>Santa Barbara Shellfish Company</td>\n",
       "      <td>230 Stearns Wharf</td>\n",
       "      <td>Santa Barbara</td>\n",
       "      <td>CA</td>\n",
       "      <td>93101</td>\n",
       "      <td>34.408715</td>\n",
       "      <td>-119.685019</td>\n",
       "      <td>4.0</td>\n",
       "      <td>2404</td>\n",
       "      <td>...</td>\n",
       "      <td>'casual'</td>\n",
       "      <td>NaN</td>\n",
       "      <td>NaN</td>\n",
       "      <td>NaN</td>\n",
       "      <td>True</td>\n",
       "      <td>False</td>\n",
       "      <td>NaN</td>\n",
       "      <td>False</td>\n",
       "      <td>NaN</td>\n",
       "      <td>True</td>\n",
       "    </tr>\n",
       "    <tr>\n",
       "      <th>2</th>\n",
       "      <td>4xhGQGdGqU60BIznBjqnuA</td>\n",
       "      <td>California Tacos and Taproom</td>\n",
       "      <td>956 Embarcadero Del Norte</td>\n",
       "      <td>Isla Vista</td>\n",
       "      <td>CA</td>\n",
       "      <td>93117</td>\n",
       "      <td>34.411555</td>\n",
       "      <td>-119.855077</td>\n",
       "      <td>4.0</td>\n",
       "      <td>49</td>\n",
       "      <td>...</td>\n",
       "      <td>NaN</td>\n",
       "      <td>NaN</td>\n",
       "      <td>u'no'</td>\n",
       "      <td>NaN</td>\n",
       "      <td>True</td>\n",
       "      <td>False</td>\n",
       "      <td>NaN</td>\n",
       "      <td>NaN</td>\n",
       "      <td>NaN</td>\n",
       "      <td>True</td>\n",
       "    </tr>\n",
       "    <tr>\n",
       "      <th>3</th>\n",
       "      <td>ifjluUv4VASwmFqEp8cWlQ</td>\n",
       "      <td>Marty's Pizza</td>\n",
       "      <td>2733 De La Vina St</td>\n",
       "      <td>Santa Barbara</td>\n",
       "      <td>CA</td>\n",
       "      <td>93105</td>\n",
       "      <td>34.436236</td>\n",
       "      <td>-119.726147</td>\n",
       "      <td>4.0</td>\n",
       "      <td>64</td>\n",
       "      <td>...</td>\n",
       "      <td>'casual'</td>\n",
       "      <td>NaN</td>\n",
       "      <td>NaN</td>\n",
       "      <td>NaN</td>\n",
       "      <td>True</td>\n",
       "      <td>NaN</td>\n",
       "      <td>NaN</td>\n",
       "      <td>NaN</td>\n",
       "      <td>NaN</td>\n",
       "      <td>False</td>\n",
       "    </tr>\n",
       "    <tr>\n",
       "      <th>4</th>\n",
       "      <td>VeFfrEZ4iWaecrQg6Eq4cg</td>\n",
       "      <td>Cal Taco</td>\n",
       "      <td>7320 Hollister Ave, Ste 1</td>\n",
       "      <td>Goleta</td>\n",
       "      <td>CA</td>\n",
       "      <td>93117</td>\n",
       "      <td>34.430542</td>\n",
       "      <td>-119.882367</td>\n",
       "      <td>4.0</td>\n",
       "      <td>189</td>\n",
       "      <td>...</td>\n",
       "      <td>'casual'</td>\n",
       "      <td>True</td>\n",
       "      <td>NaN</td>\n",
       "      <td>True</td>\n",
       "      <td>True</td>\n",
       "      <td>NaN</td>\n",
       "      <td>False</td>\n",
       "      <td>True</td>\n",
       "      <td>False</td>\n",
       "      <td>True</td>\n",
       "    </tr>\n",
       "  </tbody>\n",
       "</table>\n",
       "<p>5 rows × 39 columns</p>\n",
       "</div>"
      ],
      "text/plain": [
       "              business_id                             name  \\\n",
       "0  IDtLPgUrqorrpqSLdfMhZQ             Helena Avenue Bakery   \n",
       "1  SZU9c8V2GuREDN5KgyHFJw  Santa Barbara Shellfish Company   \n",
       "2  4xhGQGdGqU60BIznBjqnuA     California Tacos and Taproom   \n",
       "3  ifjluUv4VASwmFqEp8cWlQ                    Marty's Pizza   \n",
       "4  VeFfrEZ4iWaecrQg6Eq4cg                         Cal Taco   \n",
       "\n",
       "                     address           city state  postal_code   latitude  \\\n",
       "0      131 Anacapa St, Ste C  Santa Barbara    CA        93101  34.414445   \n",
       "1          230 Stearns Wharf  Santa Barbara    CA        93101  34.408715   \n",
       "2  956 Embarcadero Del Norte     Isla Vista    CA        93117  34.411555   \n",
       "3         2733 De La Vina St  Santa Barbara    CA        93105  34.436236   \n",
       "4  7320 Hollister Ave, Ste 1         Goleta    CA        93117  34.430542   \n",
       "\n",
       "    longitude  stars  review_count  ... RestaurantsAttire DogsAllowed Smoking  \\\n",
       "0 -119.690672    4.0           389  ...          'casual'        True     NaN   \n",
       "1 -119.685019    4.0          2404  ...          'casual'         NaN     NaN   \n",
       "2 -119.855077    4.0            49  ...               NaN         NaN   u'no'   \n",
       "3 -119.726147    4.0            64  ...          'casual'         NaN     NaN   \n",
       "4 -119.882367    4.0           189  ...          'casual'        True     NaN   \n",
       "\n",
       "  RestaurantsTableService RestaurantsTakeOut CoatCheck Corkage HappyHour  \\\n",
       "0                   False               True       NaN     NaN     False   \n",
       "1                     NaN               True     False     NaN     False   \n",
       "2                     NaN               True     False     NaN       NaN   \n",
       "3                     NaN               True       NaN     NaN       NaN   \n",
       "4                    True               True       NaN   False      True   \n",
       "\n",
       "  DriveThru OutdoorSeating  \n",
       "0       NaN           True  \n",
       "1       NaN           True  \n",
       "2       NaN           True  \n",
       "3       NaN          False  \n",
       "4     False           True  \n",
       "\n",
       "[5 rows x 39 columns]"
      ]
     },
     "execution_count": 6,
     "metadata": {},
     "output_type": "execute_result"
    }
   ],
   "source": [
    "business.head()"
   ]
  },
  {
   "cell_type": "code",
   "execution_count": 7,
   "id": "5722572e",
   "metadata": {},
   "outputs": [
    {
     "data": {
      "text/html": [
       "<div>\n",
       "<style scoped>\n",
       "    .dataframe tbody tr th:only-of-type {\n",
       "        vertical-align: middle;\n",
       "    }\n",
       "\n",
       "    .dataframe tbody tr th {\n",
       "        vertical-align: top;\n",
       "    }\n",
       "\n",
       "    .dataframe thead th {\n",
       "        text-align: right;\n",
       "    }\n",
       "</style>\n",
       "<table border=\"1\" class=\"dataframe\">\n",
       "  <thead>\n",
       "    <tr style=\"text-align: right;\">\n",
       "      <th></th>\n",
       "      <th>review_id</th>\n",
       "      <th>user_id</th>\n",
       "      <th>business_id</th>\n",
       "      <th>stars</th>\n",
       "      <th>text</th>\n",
       "      <th>categories</th>\n",
       "    </tr>\n",
       "  </thead>\n",
       "  <tbody>\n",
       "    <tr>\n",
       "      <th>0</th>\n",
       "      <td>pUycOfUwM8vqX7KjRRhUEA</td>\n",
       "      <td>59MxRhNVhU9MYndMkz0wtw</td>\n",
       "      <td>gebiRewfieSdtt17PTW6Zg</td>\n",
       "      <td>3.0</td>\n",
       "      <td>Had a party of 6 here for hibachi. Our waitres...</td>\n",
       "      <td>Food, Restaurants, Salad, Coffee &amp; Tea, Breakf...</td>\n",
       "    </tr>\n",
       "    <tr>\n",
       "      <th>1</th>\n",
       "      <td>eCiWBf1CJ0Zdv1uVarEhhw</td>\n",
       "      <td>OhECKhQEexFypOMY6kypRw</td>\n",
       "      <td>vC2qm1y3Au5czBtbhc-DNw</td>\n",
       "      <td>4.0</td>\n",
       "      <td>Yes, this is the only sushi place in town. How...</td>\n",
       "      <td>Live/Raw Food, Restaurants, Seafood, Beer Bar,...</td>\n",
       "    </tr>\n",
       "    <tr>\n",
       "      <th>2</th>\n",
       "      <td>YbMyvlDA2W3Py5lTz8VK-A</td>\n",
       "      <td>4hBhtCSgoxkrFgHa4YAD-w</td>\n",
       "      <td>bbEXAEFr4RYHLlZ-HFssTA</td>\n",
       "      <td>5.0</td>\n",
       "      <td>Great burgers,fries and salad!  Burgers have a...</td>\n",
       "      <td>Mexican, Beer Bar, Bars, Sports Bars, Nightlif...</td>\n",
       "    </tr>\n",
       "    <tr>\n",
       "      <th>3</th>\n",
       "      <td>L0jv8c2FbpWSlfNC6bbUEA</td>\n",
       "      <td>bFPdtzu11Oi0f92EAcjqmg</td>\n",
       "      <td>IDtLPgUrqorrpqSLdfMhZQ</td>\n",
       "      <td>5.0</td>\n",
       "      <td>What a great addition to the Funk Zone!  Grab ...</td>\n",
       "      <td>Pizza, Restaurants</td>\n",
       "    </tr>\n",
       "    <tr>\n",
       "      <th>4</th>\n",
       "      <td>4zopEEPqfwm-c_FNpeHZYw</td>\n",
       "      <td>JYYYKt6TdVA4ng9lLcXt_g</td>\n",
       "      <td>SZU9c8V2GuREDN5KgyHFJw</td>\n",
       "      <td>5.0</td>\n",
       "      <td>We were a bit weary about trying the Shellfish...</td>\n",
       "      <td>Burgers, Cafes, Restaurants, Mexican, American...</td>\n",
       "    </tr>\n",
       "  </tbody>\n",
       "</table>\n",
       "</div>"
      ],
      "text/plain": [
       "                review_id                 user_id             business_id  \\\n",
       "0  pUycOfUwM8vqX7KjRRhUEA  59MxRhNVhU9MYndMkz0wtw  gebiRewfieSdtt17PTW6Zg   \n",
       "1  eCiWBf1CJ0Zdv1uVarEhhw  OhECKhQEexFypOMY6kypRw  vC2qm1y3Au5czBtbhc-DNw   \n",
       "2  YbMyvlDA2W3Py5lTz8VK-A  4hBhtCSgoxkrFgHa4YAD-w  bbEXAEFr4RYHLlZ-HFssTA   \n",
       "3  L0jv8c2FbpWSlfNC6bbUEA  bFPdtzu11Oi0f92EAcjqmg  IDtLPgUrqorrpqSLdfMhZQ   \n",
       "4  4zopEEPqfwm-c_FNpeHZYw  JYYYKt6TdVA4ng9lLcXt_g  SZU9c8V2GuREDN5KgyHFJw   \n",
       "\n",
       "   stars                                               text  \\\n",
       "0    3.0  Had a party of 6 here for hibachi. Our waitres...   \n",
       "1    4.0  Yes, this is the only sushi place in town. How...   \n",
       "2    5.0  Great burgers,fries and salad!  Burgers have a...   \n",
       "3    5.0  What a great addition to the Funk Zone!  Grab ...   \n",
       "4    5.0  We were a bit weary about trying the Shellfish...   \n",
       "\n",
       "                                          categories  \n",
       "0  Food, Restaurants, Salad, Coffee & Tea, Breakf...  \n",
       "1  Live/Raw Food, Restaurants, Seafood, Beer Bar,...  \n",
       "2  Mexican, Beer Bar, Bars, Sports Bars, Nightlif...  \n",
       "3                                 Pizza, Restaurants  \n",
       "4  Burgers, Cafes, Restaurants, Mexican, American...  "
      ]
     },
     "execution_count": 7,
     "metadata": {},
     "output_type": "execute_result"
    }
   ],
   "source": [
    "review.head()"
   ]
  },
  {
   "cell_type": "code",
   "execution_count": 8,
   "id": "3ca6be00",
   "metadata": {},
   "outputs": [
    {
     "data": {
      "text/html": [
       "<div>\n",
       "<style scoped>\n",
       "    .dataframe tbody tr th:only-of-type {\n",
       "        vertical-align: middle;\n",
       "    }\n",
       "\n",
       "    .dataframe tbody tr th {\n",
       "        vertical-align: top;\n",
       "    }\n",
       "\n",
       "    .dataframe thead th {\n",
       "        text-align: right;\n",
       "    }\n",
       "</style>\n",
       "<table border=\"1\" class=\"dataframe\">\n",
       "  <thead>\n",
       "    <tr style=\"text-align: right;\">\n",
       "      <th></th>\n",
       "      <th>user_id</th>\n",
       "      <th>is_elite</th>\n",
       "    </tr>\n",
       "  </thead>\n",
       "  <tbody>\n",
       "    <tr>\n",
       "      <th>0</th>\n",
       "      <td>qVc8ODYU5SZjKXVBgXdI7w</td>\n",
       "      <td>True</td>\n",
       "    </tr>\n",
       "    <tr>\n",
       "      <th>1</th>\n",
       "      <td>SZDeASXq7o05mMNLshsdIA</td>\n",
       "      <td>True</td>\n",
       "    </tr>\n",
       "    <tr>\n",
       "      <th>2</th>\n",
       "      <td>q_QQ5kBBwlCcbL1s4NVK3g</td>\n",
       "      <td>True</td>\n",
       "    </tr>\n",
       "    <tr>\n",
       "      <th>3</th>\n",
       "      <td>iYzhPPqnrjJkg1JHZyMhzA</td>\n",
       "      <td>False</td>\n",
       "    </tr>\n",
       "    <tr>\n",
       "      <th>4</th>\n",
       "      <td>QF1Kuhs8iwLWANNZxebTow</td>\n",
       "      <td>True</td>\n",
       "    </tr>\n",
       "  </tbody>\n",
       "</table>\n",
       "</div>"
      ],
      "text/plain": [
       "                  user_id  is_elite\n",
       "0  qVc8ODYU5SZjKXVBgXdI7w      True\n",
       "1  SZDeASXq7o05mMNLshsdIA      True\n",
       "2  q_QQ5kBBwlCcbL1s4NVK3g      True\n",
       "3  iYzhPPqnrjJkg1JHZyMhzA     False\n",
       "4  QF1Kuhs8iwLWANNZxebTow      True"
      ]
     },
     "execution_count": 8,
     "metadata": {},
     "output_type": "execute_result"
    }
   ],
   "source": [
    "users.head()"
   ]
  },
  {
   "cell_type": "code",
   "execution_count": 9,
   "id": "9d002a81",
   "metadata": {},
   "outputs": [
    {
     "data": {
      "text/html": [
       "<div>\n",
       "<style scoped>\n",
       "    .dataframe tbody tr th:only-of-type {\n",
       "        vertical-align: middle;\n",
       "    }\n",
       "\n",
       "    .dataframe tbody tr th {\n",
       "        vertical-align: top;\n",
       "    }\n",
       "\n",
       "    .dataframe thead th {\n",
       "        text-align: right;\n",
       "    }\n",
       "</style>\n",
       "<table border=\"1\" class=\"dataframe\">\n",
       "  <thead>\n",
       "    <tr style=\"text-align: right;\">\n",
       "      <th></th>\n",
       "      <th>text</th>\n",
       "      <th>word_count</th>\n",
       "    </tr>\n",
       "  </thead>\n",
       "  <tbody>\n",
       "    <tr>\n",
       "      <th>0</th>\n",
       "      <td>Had a party of 6 here for hibachi. Our waitres...</td>\n",
       "      <td>99</td>\n",
       "    </tr>\n",
       "    <tr>\n",
       "      <th>1</th>\n",
       "      <td>Yes, this is the only sushi place in town. How...</td>\n",
       "      <td>58</td>\n",
       "    </tr>\n",
       "    <tr>\n",
       "      <th>2</th>\n",
       "      <td>Great burgers,fries and salad!  Burgers have a...</td>\n",
       "      <td>33</td>\n",
       "    </tr>\n",
       "    <tr>\n",
       "      <th>3</th>\n",
       "      <td>What a great addition to the Funk Zone!  Grab ...</td>\n",
       "      <td>42</td>\n",
       "    </tr>\n",
       "    <tr>\n",
       "      <th>4</th>\n",
       "      <td>We were a bit weary about trying the Shellfish...</td>\n",
       "      <td>323</td>\n",
       "    </tr>\n",
       "  </tbody>\n",
       "</table>\n",
       "</div>"
      ],
      "text/plain": [
       "                                                text  word_count\n",
       "0  Had a party of 6 here for hibachi. Our waitres...          99\n",
       "1  Yes, this is the only sushi place in town. How...          58\n",
       "2  Great burgers,fries and salad!  Burgers have a...          33\n",
       "3  What a great addition to the Funk Zone!  Grab ...          42\n",
       "4  We were a bit weary about trying the Shellfish...         323"
      ]
     },
     "execution_count": 9,
     "metadata": {},
     "output_type": "execute_result"
    }
   ],
   "source": [
    "# Let us look at the word count in the review text\n",
    "review['word_count'] = review['text'].apply(lambda x: len(str(x).split(\" \")))\n",
    "review[['text','word_count']].head()"
   ]
  },
  {
   "cell_type": "code",
   "execution_count": 10,
   "id": "14cd7392",
   "metadata": {},
   "outputs": [
    {
     "data": {
      "text/html": [
       "<div>\n",
       "<style scoped>\n",
       "    .dataframe tbody tr th:only-of-type {\n",
       "        vertical-align: middle;\n",
       "    }\n",
       "\n",
       "    .dataframe tbody tr th {\n",
       "        vertical-align: top;\n",
       "    }\n",
       "\n",
       "    .dataframe thead th {\n",
       "        text-align: right;\n",
       "    }\n",
       "</style>\n",
       "<table border=\"1\" class=\"dataframe\">\n",
       "  <thead>\n",
       "    <tr style=\"text-align: right;\">\n",
       "      <th></th>\n",
       "      <th>text</th>\n",
       "      <th>char_count</th>\n",
       "    </tr>\n",
       "  </thead>\n",
       "  <tbody>\n",
       "    <tr>\n",
       "      <th>0</th>\n",
       "      <td>Had a party of 6 here for hibachi. Our waitres...</td>\n",
       "      <td>524</td>\n",
       "    </tr>\n",
       "    <tr>\n",
       "      <th>1</th>\n",
       "      <td>Yes, this is the only sushi place in town. How...</td>\n",
       "      <td>325</td>\n",
       "    </tr>\n",
       "    <tr>\n",
       "      <th>2</th>\n",
       "      <td>Great burgers,fries and salad!  Burgers have a...</td>\n",
       "      <td>209</td>\n",
       "    </tr>\n",
       "    <tr>\n",
       "      <th>3</th>\n",
       "      <td>What a great addition to the Funk Zone!  Grab ...</td>\n",
       "      <td>222</td>\n",
       "    </tr>\n",
       "    <tr>\n",
       "      <th>4</th>\n",
       "      <td>We were a bit weary about trying the Shellfish...</td>\n",
       "      <td>1770</td>\n",
       "    </tr>\n",
       "  </tbody>\n",
       "</table>\n",
       "</div>"
      ],
      "text/plain": [
       "                                                text  char_count\n",
       "0  Had a party of 6 here for hibachi. Our waitres...         524\n",
       "1  Yes, this is the only sushi place in town. How...         325\n",
       "2  Great burgers,fries and salad!  Burgers have a...         209\n",
       "3  What a great addition to the Funk Zone!  Grab ...         222\n",
       "4  We were a bit weary about trying the Shellfish...        1770"
      ]
     },
     "execution_count": 10,
     "metadata": {},
     "output_type": "execute_result"
    }
   ],
   "source": [
    "# Let us look at the character count in the review text\n",
    "review['char_count'] = review['text'].str.len() ## this also includes spaces\n",
    "review[['text','char_count']].head()"
   ]
  },
  {
   "cell_type": "code",
   "execution_count": 11,
   "id": "c330fc1b",
   "metadata": {},
   "outputs": [
    {
     "data": {
      "text/plain": [
       "\"Yes, this is the only sushi place in town. However, it is great when you're craving sushi and don't have time to go somewhere else. The salmon is probably the best fish they have, so we always order salmon. We also love their spicy edamame, tempura, ocean salad, and cabbage salad. Service has always been friendly and quick!\""
      ]
     },
     "execution_count": 11,
     "metadata": {},
     "output_type": "execute_result"
    }
   ],
   "source": [
    "# Let us look at the average word length in the review text sentence\n",
    "def avg_word(sentence):\n",
    "  words = sentence.split()\n",
    "  return (sum(len(word) for word in words)/len(words))\n",
    "\n",
    "review['avg_word'] = review['text'].apply(lambda x: avg_word(x))\n",
    "review[['text','avg_word']].head()\n",
    "review['text'][1]"
   ]
  },
  {
   "cell_type": "code",
   "execution_count": 12,
   "id": "e724e60c",
   "metadata": {},
   "outputs": [
    {
     "data": {
      "text/html": [
       "<div>\n",
       "<style scoped>\n",
       "    .dataframe tbody tr th:only-of-type {\n",
       "        vertical-align: middle;\n",
       "    }\n",
       "\n",
       "    .dataframe tbody tr th {\n",
       "        vertical-align: top;\n",
       "    }\n",
       "\n",
       "    .dataframe thead th {\n",
       "        text-align: right;\n",
       "    }\n",
       "</style>\n",
       "<table border=\"1\" class=\"dataframe\">\n",
       "  <thead>\n",
       "    <tr style=\"text-align: right;\">\n",
       "      <th></th>\n",
       "      <th>text</th>\n",
       "      <th>hashtags</th>\n",
       "    </tr>\n",
       "  </thead>\n",
       "  <tbody>\n",
       "    <tr>\n",
       "      <th>0</th>\n",
       "      <td>Had a party of 6 here for hibachi. Our waitres...</td>\n",
       "      <td>0</td>\n",
       "    </tr>\n",
       "    <tr>\n",
       "      <th>1</th>\n",
       "      <td>Yes, this is the only sushi place in town. How...</td>\n",
       "      <td>0</td>\n",
       "    </tr>\n",
       "    <tr>\n",
       "      <th>2</th>\n",
       "      <td>Great burgers,fries and salad!  Burgers have a...</td>\n",
       "      <td>0</td>\n",
       "    </tr>\n",
       "    <tr>\n",
       "      <th>3</th>\n",
       "      <td>What a great addition to the Funk Zone!  Grab ...</td>\n",
       "      <td>0</td>\n",
       "    </tr>\n",
       "    <tr>\n",
       "      <th>4</th>\n",
       "      <td>We were a bit weary about trying the Shellfish...</td>\n",
       "      <td>0</td>\n",
       "    </tr>\n",
       "  </tbody>\n",
       "</table>\n",
       "</div>"
      ],
      "text/plain": [
       "                                                text  hashtags\n",
       "0  Had a party of 6 here for hibachi. Our waitres...         0\n",
       "1  Yes, this is the only sushi place in town. How...         0\n",
       "2  Great burgers,fries and salad!  Burgers have a...         0\n",
       "3  What a great addition to the Funk Zone!  Grab ...         0\n",
       "4  We were a bit weary about trying the Shellfish...         0"
      ]
     },
     "execution_count": 12,
     "metadata": {},
     "output_type": "execute_result"
    }
   ],
   "source": [
    "# Let us look if there is any text that starts with hashtags\n",
    "review['hashtags'] = review['text'].apply(lambda x: len([x for x in x.split() if x.startswith('#')]))\n",
    "review[['text','hashtags']].head()"
   ]
  },
  {
   "cell_type": "code",
   "execution_count": 13,
   "id": "0db4ccb2",
   "metadata": {},
   "outputs": [
    {
     "data": {
      "text/html": [
       "<div>\n",
       "<style scoped>\n",
       "    .dataframe tbody tr th:only-of-type {\n",
       "        vertical-align: middle;\n",
       "    }\n",
       "\n",
       "    .dataframe tbody tr th {\n",
       "        vertical-align: top;\n",
       "    }\n",
       "\n",
       "    .dataframe thead th {\n",
       "        text-align: right;\n",
       "    }\n",
       "</style>\n",
       "<table border=\"1\" class=\"dataframe\">\n",
       "  <thead>\n",
       "    <tr style=\"text-align: right;\">\n",
       "      <th></th>\n",
       "      <th>text</th>\n",
       "      <th>stopwords</th>\n",
       "    </tr>\n",
       "  </thead>\n",
       "  <tbody>\n",
       "    <tr>\n",
       "      <th>0</th>\n",
       "      <td>Had a party of 6 here for hibachi. Our waitres...</td>\n",
       "      <td>40</td>\n",
       "    </tr>\n",
       "    <tr>\n",
       "      <th>1</th>\n",
       "      <td>Yes, this is the only sushi place in town. How...</td>\n",
       "      <td>23</td>\n",
       "    </tr>\n",
       "    <tr>\n",
       "      <th>2</th>\n",
       "      <td>Great burgers,fries and salad!  Burgers have a...</td>\n",
       "      <td>13</td>\n",
       "    </tr>\n",
       "    <tr>\n",
       "      <th>3</th>\n",
       "      <td>What a great addition to the Funk Zone!  Grab ...</td>\n",
       "      <td>14</td>\n",
       "    </tr>\n",
       "    <tr>\n",
       "      <th>4</th>\n",
       "      <td>We were a bit weary about trying the Shellfish...</td>\n",
       "      <td>131</td>\n",
       "    </tr>\n",
       "  </tbody>\n",
       "</table>\n",
       "</div>"
      ],
      "text/plain": [
       "                                                text  stopwords\n",
       "0  Had a party of 6 here for hibachi. Our waitres...         40\n",
       "1  Yes, this is the only sushi place in town. How...         23\n",
       "2  Great burgers,fries and salad!  Burgers have a...         13\n",
       "3  What a great addition to the Funk Zone!  Grab ...         14\n",
       "4  We were a bit weary about trying the Shellfish...        131"
      ]
     },
     "execution_count": 13,
     "metadata": {},
     "output_type": "execute_result"
    }
   ],
   "source": [
    "# Let us look at the count of stopwords present in the review text\n",
    "stop = stopwords.words('english')\n",
    "\n",
    "review['stopwords'] = review['text'].apply(lambda x: len([x for x in x.split() if x in stop]))\n",
    "review[['text','stopwords']].head()"
   ]
  },
  {
   "cell_type": "code",
   "execution_count": 14,
   "id": "73dc8ac7",
   "metadata": {},
   "outputs": [
    {
     "data": {
      "text/html": [
       "<div>\n",
       "<style scoped>\n",
       "    .dataframe tbody tr th:only-of-type {\n",
       "        vertical-align: middle;\n",
       "    }\n",
       "\n",
       "    .dataframe tbody tr th {\n",
       "        vertical-align: top;\n",
       "    }\n",
       "\n",
       "    .dataframe thead th {\n",
       "        text-align: right;\n",
       "    }\n",
       "</style>\n",
       "<table border=\"1\" class=\"dataframe\">\n",
       "  <thead>\n",
       "    <tr style=\"text-align: right;\">\n",
       "      <th></th>\n",
       "      <th>text</th>\n",
       "      <th>numerics</th>\n",
       "    </tr>\n",
       "  </thead>\n",
       "  <tbody>\n",
       "    <tr>\n",
       "      <th>0</th>\n",
       "      <td>Had a party of 6 here for hibachi. Our waitres...</td>\n",
       "      <td>1</td>\n",
       "    </tr>\n",
       "    <tr>\n",
       "      <th>1</th>\n",
       "      <td>Yes, this is the only sushi place in town. How...</td>\n",
       "      <td>0</td>\n",
       "    </tr>\n",
       "    <tr>\n",
       "      <th>2</th>\n",
       "      <td>Great burgers,fries and salad!  Burgers have a...</td>\n",
       "      <td>0</td>\n",
       "    </tr>\n",
       "    <tr>\n",
       "      <th>3</th>\n",
       "      <td>What a great addition to the Funk Zone!  Grab ...</td>\n",
       "      <td>0</td>\n",
       "    </tr>\n",
       "    <tr>\n",
       "      <th>4</th>\n",
       "      <td>We were a bit weary about trying the Shellfish...</td>\n",
       "      <td>2</td>\n",
       "    </tr>\n",
       "  </tbody>\n",
       "</table>\n",
       "</div>"
      ],
      "text/plain": [
       "                                                text  numerics\n",
       "0  Had a party of 6 here for hibachi. Our waitres...         1\n",
       "1  Yes, this is the only sushi place in town. How...         0\n",
       "2  Great burgers,fries and salad!  Burgers have a...         0\n",
       "3  What a great addition to the Funk Zone!  Grab ...         0\n",
       "4  We were a bit weary about trying the Shellfish...         2"
      ]
     },
     "execution_count": 14,
     "metadata": {},
     "output_type": "execute_result"
    }
   ],
   "source": [
    "# Let us look at the count of numerics present in the review text\n",
    "review['numerics'] = review['text'].apply(lambda x: len([x for x in x.split() if x.isdigit()]))\n",
    "review[['text','numerics']].head()"
   ]
  },
  {
   "cell_type": "code",
   "execution_count": 15,
   "id": "c919bd36",
   "metadata": {},
   "outputs": [
    {
     "data": {
      "text/html": [
       "<div>\n",
       "<style scoped>\n",
       "    .dataframe tbody tr th:only-of-type {\n",
       "        vertical-align: middle;\n",
       "    }\n",
       "\n",
       "    .dataframe tbody tr th {\n",
       "        vertical-align: top;\n",
       "    }\n",
       "\n",
       "    .dataframe thead th {\n",
       "        text-align: right;\n",
       "    }\n",
       "</style>\n",
       "<table border=\"1\" class=\"dataframe\">\n",
       "  <thead>\n",
       "    <tr style=\"text-align: right;\">\n",
       "      <th></th>\n",
       "      <th>review_id</th>\n",
       "      <th>user_id</th>\n",
       "      <th>business_id</th>\n",
       "      <th>stars</th>\n",
       "      <th>text</th>\n",
       "      <th>categories</th>\n",
       "      <th>word_count</th>\n",
       "      <th>char_count</th>\n",
       "      <th>avg_word</th>\n",
       "      <th>hashtags</th>\n",
       "      <th>stopwords</th>\n",
       "      <th>numerics</th>\n",
       "      <th>text length</th>\n",
       "    </tr>\n",
       "  </thead>\n",
       "  <tbody>\n",
       "    <tr>\n",
       "      <th>0</th>\n",
       "      <td>pUycOfUwM8vqX7KjRRhUEA</td>\n",
       "      <td>59MxRhNVhU9MYndMkz0wtw</td>\n",
       "      <td>gebiRewfieSdtt17PTW6Zg</td>\n",
       "      <td>3.0</td>\n",
       "      <td>Had a party of 6 here for hibachi. Our waitres...</td>\n",
       "      <td>Food, Restaurants, Salad, Coffee &amp; Tea, Breakf...</td>\n",
       "      <td>99</td>\n",
       "      <td>524</td>\n",
       "      <td>4.391753</td>\n",
       "      <td>0</td>\n",
       "      <td>40</td>\n",
       "      <td>1</td>\n",
       "      <td>524</td>\n",
       "    </tr>\n",
       "    <tr>\n",
       "      <th>1</th>\n",
       "      <td>eCiWBf1CJ0Zdv1uVarEhhw</td>\n",
       "      <td>OhECKhQEexFypOMY6kypRw</td>\n",
       "      <td>vC2qm1y3Au5czBtbhc-DNw</td>\n",
       "      <td>4.0</td>\n",
       "      <td>Yes, this is the only sushi place in town. How...</td>\n",
       "      <td>Live/Raw Food, Restaurants, Seafood, Beer Bar,...</td>\n",
       "      <td>58</td>\n",
       "      <td>325</td>\n",
       "      <td>4.620690</td>\n",
       "      <td>0</td>\n",
       "      <td>23</td>\n",
       "      <td>0</td>\n",
       "      <td>325</td>\n",
       "    </tr>\n",
       "    <tr>\n",
       "      <th>2</th>\n",
       "      <td>YbMyvlDA2W3Py5lTz8VK-A</td>\n",
       "      <td>4hBhtCSgoxkrFgHa4YAD-w</td>\n",
       "      <td>bbEXAEFr4RYHLlZ-HFssTA</td>\n",
       "      <td>5.0</td>\n",
       "      <td>Great burgers,fries and salad!  Burgers have a...</td>\n",
       "      <td>Mexican, Beer Bar, Bars, Sports Bars, Nightlif...</td>\n",
       "      <td>33</td>\n",
       "      <td>209</td>\n",
       "      <td>4.885714</td>\n",
       "      <td>0</td>\n",
       "      <td>13</td>\n",
       "      <td>0</td>\n",
       "      <td>209</td>\n",
       "    </tr>\n",
       "    <tr>\n",
       "      <th>3</th>\n",
       "      <td>L0jv8c2FbpWSlfNC6bbUEA</td>\n",
       "      <td>bFPdtzu11Oi0f92EAcjqmg</td>\n",
       "      <td>IDtLPgUrqorrpqSLdfMhZQ</td>\n",
       "      <td>5.0</td>\n",
       "      <td>What a great addition to the Funk Zone!  Grab ...</td>\n",
       "      <td>Pizza, Restaurants</td>\n",
       "      <td>42</td>\n",
       "      <td>222</td>\n",
       "      <td>4.525000</td>\n",
       "      <td>0</td>\n",
       "      <td>14</td>\n",
       "      <td>0</td>\n",
       "      <td>222</td>\n",
       "    </tr>\n",
       "    <tr>\n",
       "      <th>4</th>\n",
       "      <td>4zopEEPqfwm-c_FNpeHZYw</td>\n",
       "      <td>JYYYKt6TdVA4ng9lLcXt_g</td>\n",
       "      <td>SZU9c8V2GuREDN5KgyHFJw</td>\n",
       "      <td>5.0</td>\n",
       "      <td>We were a bit weary about trying the Shellfish...</td>\n",
       "      <td>Burgers, Cafes, Restaurants, Mexican, American...</td>\n",
       "      <td>323</td>\n",
       "      <td>1770</td>\n",
       "      <td>4.438272</td>\n",
       "      <td>0</td>\n",
       "      <td>131</td>\n",
       "      <td>2</td>\n",
       "      <td>1770</td>\n",
       "    </tr>\n",
       "  </tbody>\n",
       "</table>\n",
       "</div>"
      ],
      "text/plain": [
       "                review_id                 user_id             business_id  \\\n",
       "0  pUycOfUwM8vqX7KjRRhUEA  59MxRhNVhU9MYndMkz0wtw  gebiRewfieSdtt17PTW6Zg   \n",
       "1  eCiWBf1CJ0Zdv1uVarEhhw  OhECKhQEexFypOMY6kypRw  vC2qm1y3Au5czBtbhc-DNw   \n",
       "2  YbMyvlDA2W3Py5lTz8VK-A  4hBhtCSgoxkrFgHa4YAD-w  bbEXAEFr4RYHLlZ-HFssTA   \n",
       "3  L0jv8c2FbpWSlfNC6bbUEA  bFPdtzu11Oi0f92EAcjqmg  IDtLPgUrqorrpqSLdfMhZQ   \n",
       "4  4zopEEPqfwm-c_FNpeHZYw  JYYYKt6TdVA4ng9lLcXt_g  SZU9c8V2GuREDN5KgyHFJw   \n",
       "\n",
       "   stars                                               text  \\\n",
       "0    3.0  Had a party of 6 here for hibachi. Our waitres...   \n",
       "1    4.0  Yes, this is the only sushi place in town. How...   \n",
       "2    5.0  Great burgers,fries and salad!  Burgers have a...   \n",
       "3    5.0  What a great addition to the Funk Zone!  Grab ...   \n",
       "4    5.0  We were a bit weary about trying the Shellfish...   \n",
       "\n",
       "                                          categories  word_count  char_count  \\\n",
       "0  Food, Restaurants, Salad, Coffee & Tea, Breakf...          99         524   \n",
       "1  Live/Raw Food, Restaurants, Seafood, Beer Bar,...          58         325   \n",
       "2  Mexican, Beer Bar, Bars, Sports Bars, Nightlif...          33         209   \n",
       "3                                 Pizza, Restaurants          42         222   \n",
       "4  Burgers, Cafes, Restaurants, Mexican, American...         323        1770   \n",
       "\n",
       "   avg_word  hashtags  stopwords  numerics  text length  \n",
       "0  4.391753         0         40         1          524  \n",
       "1  4.620690         0         23         0          325  \n",
       "2  4.885714         0         13         0          209  \n",
       "3  4.525000         0         14         0          222  \n",
       "4  4.438272         0        131         2         1770  "
      ]
     },
     "execution_count": 15,
     "metadata": {},
     "output_type": "execute_result"
    }
   ],
   "source": [
    "# Let us include the text length column in review dataset\n",
    "review['text length'] = review['text'].apply(len)\n",
    "review.head()"
   ]
  },
  {
   "cell_type": "code",
   "execution_count": 16,
   "id": "21d62ab2",
   "metadata": {},
   "outputs": [],
   "source": [
    "# separating our features and target\n",
    "X = review['text']\n",
    "y = review['stars']"
   ]
  },
  {
   "cell_type": "code",
   "execution_count": 17,
   "id": "977bbf44",
   "metadata": {},
   "outputs": [
    {
     "data": {
      "text/html": [
       "<div>\n",
       "<style scoped>\n",
       "    .dataframe tbody tr th:only-of-type {\n",
       "        vertical-align: middle;\n",
       "    }\n",
       "\n",
       "    .dataframe tbody tr th {\n",
       "        vertical-align: top;\n",
       "    }\n",
       "\n",
       "    .dataframe thead th {\n",
       "        text-align: right;\n",
       "    }\n",
       "</style>\n",
       "<table border=\"1\" class=\"dataframe\">\n",
       "  <thead>\n",
       "    <tr style=\"text-align: right;\">\n",
       "      <th></th>\n",
       "      <th>text</th>\n",
       "      <th>categories</th>\n",
       "    </tr>\n",
       "  </thead>\n",
       "  <tbody>\n",
       "    <tr>\n",
       "      <th>0</th>\n",
       "      <td>Had a party of 6 here for hibachi. Our waitres...</td>\n",
       "      <td>Food, Restaurants, Salad, Coffee &amp; Tea, Breakf...</td>\n",
       "    </tr>\n",
       "    <tr>\n",
       "      <th>1</th>\n",
       "      <td>Yes, this is the only sushi place in town. How...</td>\n",
       "      <td>Live/Raw Food, Restaurants, Seafood, Beer Bar,...</td>\n",
       "    </tr>\n",
       "    <tr>\n",
       "      <th>2</th>\n",
       "      <td>Great burgers,fries and salad!  Burgers have a...</td>\n",
       "      <td>Mexican, Beer Bar, Bars, Sports Bars, Nightlif...</td>\n",
       "    </tr>\n",
       "    <tr>\n",
       "      <th>3</th>\n",
       "      <td>What a great addition to the Funk Zone!  Grab ...</td>\n",
       "      <td>Pizza, Restaurants</td>\n",
       "    </tr>\n",
       "    <tr>\n",
       "      <th>4</th>\n",
       "      <td>We were a bit weary about trying the Shellfish...</td>\n",
       "      <td>Burgers, Cafes, Restaurants, Mexican, American...</td>\n",
       "    </tr>\n",
       "    <tr>\n",
       "      <th>...</th>\n",
       "      <td>...</td>\n",
       "      <td>...</td>\n",
       "    </tr>\n",
       "    <tr>\n",
       "      <th>239060</th>\n",
       "      <td>Amazing dishes &amp; great customer service! This ...</td>\n",
       "      <td>NaN</td>\n",
       "    </tr>\n",
       "    <tr>\n",
       "      <th>239061</th>\n",
       "      <td>If I could give more than 5 stars, I would! I ...</td>\n",
       "      <td>NaN</td>\n",
       "    </tr>\n",
       "    <tr>\n",
       "      <th>239062</th>\n",
       "      <td>I have yet to not like a Trader Joe's and this...</td>\n",
       "      <td>NaN</td>\n",
       "    </tr>\n",
       "    <tr>\n",
       "      <th>239063</th>\n",
       "      <td>I ordered a half rack of Pork Ribs (a la carte...</td>\n",
       "      <td>NaN</td>\n",
       "    </tr>\n",
       "    <tr>\n",
       "      <th>239064</th>\n",
       "      <td>One of my favorite restaurants in Santa Barbar...</td>\n",
       "      <td>NaN</td>\n",
       "    </tr>\n",
       "  </tbody>\n",
       "</table>\n",
       "<p>239065 rows × 2 columns</p>\n",
       "</div>"
      ],
      "text/plain": [
       "                                                     text  \\\n",
       "0       Had a party of 6 here for hibachi. Our waitres...   \n",
       "1       Yes, this is the only sushi place in town. How...   \n",
       "2       Great burgers,fries and salad!  Burgers have a...   \n",
       "3       What a great addition to the Funk Zone!  Grab ...   \n",
       "4       We were a bit weary about trying the Shellfish...   \n",
       "...                                                   ...   \n",
       "239060  Amazing dishes & great customer service! This ...   \n",
       "239061  If I could give more than 5 stars, I would! I ...   \n",
       "239062  I have yet to not like a Trader Joe's and this...   \n",
       "239063  I ordered a half rack of Pork Ribs (a la carte...   \n",
       "239064  One of my favorite restaurants in Santa Barbar...   \n",
       "\n",
       "                                               categories  \n",
       "0       Food, Restaurants, Salad, Coffee & Tea, Breakf...  \n",
       "1       Live/Raw Food, Restaurants, Seafood, Beer Bar,...  \n",
       "2       Mexican, Beer Bar, Bars, Sports Bars, Nightlif...  \n",
       "3                                      Pizza, Restaurants  \n",
       "4       Burgers, Cafes, Restaurants, Mexican, American...  \n",
       "...                                                   ...  \n",
       "239060                                                NaN  \n",
       "239061                                                NaN  \n",
       "239062                                                NaN  \n",
       "239063                                                NaN  \n",
       "239064                                                NaN  \n",
       "\n",
       "[239065 rows x 2 columns]"
      ]
     },
     "execution_count": 17,
     "metadata": {},
     "output_type": "execute_result"
    }
   ],
   "source": [
    "review[['text', 'categories']]"
   ]
  },
  {
   "cell_type": "code",
   "execution_count": 18,
   "id": "ef15387d",
   "metadata": {},
   "outputs": [],
   "source": [
    "# creating a bag of words which consist of entire text without punctuations and fiting it\n",
    "bow_transformer = CountVectorizer().fit(X)"
   ]
  },
  {
   "cell_type": "code",
   "execution_count": 19,
   "id": "9e1faf15",
   "metadata": {},
   "outputs": [
    {
     "data": {
      "text/plain": [
       "84999"
      ]
     },
     "execution_count": 19,
     "metadata": {},
     "output_type": "execute_result"
    }
   ],
   "source": [
    "# Looking for the count of features\n",
    "len(bow_transformer.vocabulary_)"
   ]
  },
  {
   "cell_type": "code",
   "execution_count": 20,
   "id": "aa48a4bb",
   "metadata": {},
   "outputs": [],
   "source": [
    "# Let us now transform our review text\n",
    "#%%time\n",
    "X = bow_transformer.transform(X)"
   ]
  },
  {
   "cell_type": "code",
   "execution_count": 21,
   "id": "e94b7d7a",
   "metadata": {},
   "outputs": [
    {
     "data": {
      "text/plain": [
       "<239065x84999 sparse matrix of type '<class 'numpy.int64'>'\n",
       "\twith 14818192 stored elements in Compressed Sparse Row format>"
      ]
     },
     "execution_count": 21,
     "metadata": {},
     "output_type": "execute_result"
    }
   ],
   "source": [
    "X"
   ]
  },
  {
   "cell_type": "code",
   "execution_count": 22,
   "id": "cbf6fcf6",
   "metadata": {},
   "outputs": [
    {
     "name": "stdout",
     "output_type": "stream",
     "text": [
      "Shape of Sparse Matrix:  (239065, 84999)\n",
      "Amount of Non-Zero occurrences:  14818192\n",
      "Density: 0.07292314708267415\n"
     ]
    }
   ],
   "source": [
    "print('Shape of Sparse Matrix: ', X.shape)\n",
    "print('Amount of Non-Zero occurrences: ', X.nnz)\n",
    "\n",
    "# Percentage of non-zero values\n",
    "density = (100.0 * X.nnz / (X.shape[0] * X.shape[1]))\n",
    "print('Density: {}'.format((density)))"
   ]
  },
  {
   "cell_type": "code",
   "execution_count": 23,
   "id": "f7e8ef9e",
   "metadata": {},
   "outputs": [
    {
     "name": "stdout",
     "output_type": "stream",
     "text": [
      "Number transactions X_train dataset:  (167345, 84999)\n",
      "Number transactions y_train dataset:  (167345,)\n",
      "Number transactions X_test dataset:  (71720, 84999)\n",
      "Number transactions y_test dataset:  (71720,)\n"
     ]
    }
   ],
   "source": [
    "from imblearn.over_sampling import SMOTE\n",
    "from sklearn.model_selection import train_test_split\n",
    "\n",
    "X_train, X_test, y_train, y_test = train_test_split(X, y, test_size=0.3, random_state=101)\n",
    "print(\"Number transactions X_train dataset: \", X_train.shape)\n",
    "print(\"Number transactions y_train dataset: \", y_train.shape)\n",
    "print(\"Number transactions X_test dataset: \", X_test.shape)\n",
    "print(\"Number transactions y_test dataset: \", y_test.shape)"
   ]
  },
  {
   "cell_type": "code",
   "execution_count": 24,
   "id": "f148c25a",
   "metadata": {},
   "outputs": [
    {
     "name": "stdout",
     "output_type": "stream",
     "text": [
      "Before OverSampling, counts of label '1': 16698\n",
      "Before OverSampling, counts of label '2': 12475\n",
      "Before OverSampling, counts of label '3': 16676\n",
      "Before OverSampling, counts of label '4': 36423\n",
      "Before OverSampling, counts of label '5': 85073 \n",
      "\n",
      "After OverSampling, the shape of train_X: (425365, 84999)\n",
      "After OverSampling, the shape of train_y: (425365,) \n",
      "\n",
      "After OverSampling, counts of label '1': 85073\n",
      "After OverSampling, counts of label '2': 85073\n",
      "After OverSampling, counts of label '3': 85073\n",
      "After OverSampling, counts of label '4': 85073\n",
      "After OverSampling, counts of label '5': 85073\n"
     ]
    }
   ],
   "source": [
    "print(\"Before OverSampling, counts of label '1': {}\".format(sum(y_train==1)))\n",
    "print(\"Before OverSampling, counts of label '2': {}\".format(sum(y_train==2)))\n",
    "print(\"Before OverSampling, counts of label '3': {}\".format(sum(y_train==3)))\n",
    "print(\"Before OverSampling, counts of label '4': {}\".format(sum(y_train==4)))\n",
    "print(\"Before OverSampling, counts of label '5': {} \\n\".format(sum(y_train==5)))\n",
    "\n",
    "sm = SMOTE(random_state=2)\n",
    "X_train_res, y_train_res = sm.fit_resample(X_train, y_train.ravel())\n",
    "\n",
    "print('After OverSampling, the shape of train_X: {}'.format(X_train_res.shape))\n",
    "print('After OverSampling, the shape of train_y: {} \\n'.format(y_train_res.shape))\n",
    "\n",
    "print(\"After OverSampling, counts of label '1': {}\".format(sum(y_train_res==1)))\n",
    "print(\"After OverSampling, counts of label '2': {}\".format(sum(y_train_res==2)))\n",
    "print(\"After OverSampling, counts of label '3': {}\".format(sum(y_train_res==3)))\n",
    "print(\"After OverSampling, counts of label '4': {}\".format(sum(y_train_res==4)))\n",
    "print(\"After OverSampling, counts of label '5': {}\".format(sum(y_train_res==5)))"
   ]
  },
  {
   "cell_type": "code",
   "execution_count": 25,
   "id": "132d0e0d",
   "metadata": {},
   "outputs": [
    {
     "data": {
      "text/plain": [
       "MultinomialNB()"
      ]
     },
     "execution_count": 25,
     "metadata": {},
     "output_type": "execute_result"
    }
   ],
   "source": [
    "# Let us now train the model using Multinomial Naive Bais Algorithm\n",
    "from sklearn.naive_bayes import MultinomialNB\n",
    "\n",
    "nb = MultinomialNB()\n",
    "nb.fit(X_train, y_train)"
   ]
  },
  {
   "cell_type": "code",
   "execution_count": 26,
   "id": "296951f7",
   "metadata": {},
   "outputs": [],
   "source": [
    "# Let us now predict on the test set\n",
    "preds = nb.predict(X_test)"
   ]
  },
  {
   "cell_type": "code",
   "execution_count": 27,
   "id": "acc99e53",
   "metadata": {},
   "outputs": [
    {
     "data": {
      "text/plain": [
       "array([5., 4., 3., ..., 3., 5., 3.])"
      ]
     },
     "execution_count": 27,
     "metadata": {},
     "output_type": "execute_result"
    }
   ],
   "source": [
    "preds"
   ]
  },
  {
   "cell_type": "code",
   "execution_count": 28,
   "id": "c4b92f52",
   "metadata": {},
   "outputs": [
    {
     "name": "stdout",
     "output_type": "stream",
     "text": [
      "[[ 5033  1190   639   171   138]\n",
      " [ 1614  1353  1776   523   170]\n",
      " [  721   734  2499  2641   551]\n",
      " [  367   274  1180  7945  6008]\n",
      " [  515   173   384  5389 29732]]\n",
      "\n",
      "\n",
      "              precision    recall  f1-score   support\n",
      "\n",
      "         1.0       0.61      0.70      0.65      7171\n",
      "         2.0       0.36      0.25      0.30      5436\n",
      "         3.0       0.39      0.35      0.37      7146\n",
      "         4.0       0.48      0.50      0.49     15774\n",
      "         5.0       0.81      0.82      0.82     36193\n",
      "\n",
      "    accuracy                           0.65     71720\n",
      "   macro avg       0.53      0.53      0.52     71720\n",
      "weighted avg       0.64      0.65      0.64     71720\n",
      "\n",
      "0.6492191857222532\n"
     ]
    }
   ],
   "source": [
    "# Let us now evaluate our model using confusion matrix and classification report\n",
    "print(confusion_matrix(y_test, preds))\n",
    "print('\\n')\n",
    "print(classification_report(y_test, preds))\n",
    "print(metrics.accuracy_score(y_test, preds))"
   ]
  },
  {
   "cell_type": "code",
   "execution_count": 29,
   "id": "d545dda5",
   "metadata": {},
   "outputs": [
    {
     "name": "stdout",
     "output_type": "stream",
     "text": [
      "Precision is  0.5296304048101002\n",
      "Recall is  0.5251237646585414\n"
     ]
    }
   ],
   "source": [
    "from sklearn.metrics import precision_recall_fscore_support\n",
    "from sklearn.metrics import roc_auc_score\n",
    "from sklearn.metrics import auc\n",
    "\n",
    "\n",
    "result = precision_recall_fscore_support(y_test, preds, average='macro')\n",
    "precision = result[0]\n",
    "recall = result[1]\n",
    "print('Precision is ', precision)\n",
    "print('Recall is ', recall)"
   ]
  },
  {
   "cell_type": "code",
   "execution_count": 30,
   "id": "5ad60e28",
   "metadata": {},
   "outputs": [
    {
     "data": {
      "text/plain": [
       "71720"
      ]
     },
     "execution_count": 30,
     "metadata": {},
     "output_type": "execute_result"
    }
   ],
   "source": [
    "X_test.shape[0]"
   ]
  },
  {
   "cell_type": "code",
   "execution_count": 31,
   "id": "1414220d",
   "metadata": {},
   "outputs": [],
   "source": [
    "fpr, tpr, thresholds = metrics.roc_curve(y_test, preds, pos_label=2)\n",
    "roc_auc = auc(fpr, tpr)"
   ]
  },
  {
   "cell_type": "code",
   "execution_count": 32,
   "id": "2c450367",
   "metadata": {},
   "outputs": [
    {
     "data": {
      "image/png": "[encoded data removed]",
      "text/plain": [
       "<Figure size 432x288 with 1 Axes>"
      ]
     },
     "metadata": {
      "needs_background": "light"
     },
     "output_type": "display_data"
    }
   ],
   "source": [
    "# Evaluating the model \n",
    "\n",
    "plt.title('Receiver Operating Characteristic')\n",
    "plt.plot(fpr, tpr, 'b', label = 'AUC = %0.2f' % roc_auc)\n",
    "plt.legend(loc = 'lower right')\n",
    "plt.plot([0, 1], [0, 1],'r--')\n",
    "plt.xlim([0, 1])\n",
    "plt.ylim([0, 1])\n",
    "plt.ylabel('True Positive Rate')\n",
    "plt.xlabel('False Positive Rate')\n",
    "plt.show()"
   ]
  },
  {
   "cell_type": "code",
   "execution_count": 33,
   "id": "6fa8200c",
   "metadata": {},
   "outputs": [],
   "source": [
    "# adding predicted ratings to reviews\n",
    "\n",
    "def predict_review(value,bow_transformer,nb,review):\n",
    "    review_verdict = review['text'][value]\n",
    "    review_verdict_transformed = bow_transformer.transform([review_verdict])\n",
    "    predicted_rating = nb.predict(review_verdict_transformed)[0]\n",
    "    check_df = pd.DataFrame(columns=review.columns)\n",
    "    check_df.loc[0] = review.iloc[value]\n",
    "    check_df['Predicted'] = predicted_rating\n",
    "    return check_df"
   ]
  },
  {
   "cell_type": "code",
   "execution_count": null,
   "id": "f9c866cf",
   "metadata": {},
   "outputs": [],
   "source": [
    "new_df = pd.DataFrame()\n",
    "for i in range(0, len(review)):\n",
    "    row_df = predict_review(i, bow_transformer,nb,review)\n",
    "    new_df = pd.concat([row_df, new_df], ignore_index=True)"
   ]
  },
  {
   "cell_type": "code",
   "execution_count": null,
   "id": "2cc96665",
   "metadata": {},
   "outputs": [],
   "source": []
  }
 ],
 "metadata": {
  "kernelspec": {
   "display_name": "Python 3 (ipykernel)",
   "language": "python",
   "name": "python3"
  },
  "language_info": {
   "codemirror_mode": {
    "name": "ipython",
    "version": 3
   },
   "file_extension": ".py",
   "mimetype": "text/x-python",
   "name": "python",
   "nbconvert_exporter": "python",
   "pygments_lexer": "ipython3",
   "version": "3.9.7"
  }
 },
 "nbformat": 4,
 "nbformat_minor": 5
}
