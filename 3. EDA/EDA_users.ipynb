{
  "nbformat": 4,
  "nbformat_minor": 0,
  "metadata": {
    "colab": {
      "name": "EDA_users_yelp.ipynb",
      "provenance": [],
      "collapsed_sections": []
    },
    "kernelspec": {
      "name": "python3",
      "display_name": "Python 3"
    },
    "language_info": {
      "name": "python"
    }
  },
  "cells": [
    {
      "cell_type": "code",
      "execution_count": 1,
      "metadata": {
        "id": "z5ByK2KrwRvz"
      },
      "outputs": [],
      "source": [
        "import seaborn as sns \n",
        "import pandas as pd\n",
        "import matplotlib.pyplot as plt\n",
        "import json,os\n",
        "import numpy as np\n",
        "import plotly.express as px\n",
        "import plotly.graph_objects as go"
      ]
    },
    {
      "cell_type": "code",
      "source": [
        "from google.colab import drive\n",
        "drive.mount('/content/drive')"
      ],
      "metadata": {
        "colab": {
          "base_uri": "https://localhost:8080/"
        },
        "id": "mo4ldiYUweIP",
        "outputId": "c70ad04b-595f-40dd-d26e-ceeccb6f1e53"
      },
      "execution_count": 2,
      "outputs": [
        {
          "output_type": "stream",
          "name": "stdout",
          "text": [
            "Drive already mounted at /content/drive; to attempt to forcibly remount, call drive.mount(\"/content/drive\", force_remount=True).\n"
          ]
        }
      ]
    },
    {
      "cell_type": "markdown",
      "source": [
        "# Total users in the dataset"
      ],
      "metadata": {
        "id": "QM93-98kt3t5"
      }
    },
    {
      "cell_type": "code",
      "source": [
        "users_path = '/content/drive/MyDrive/CMPE256/Data/yelp_academic_dataset_user.json'"
      ],
      "metadata": {
        "id": "R2I93WswwqcA"
      },
      "execution_count": 3,
      "outputs": []
    },
    {
      "cell_type": "code",
      "source": [
        "users_ll = []\n",
        "with open(users_path, encoding = 'utf-8') as fin:\n",
        "    for line in fin:\n",
        "        line_contents = json.loads(line)\n",
        "        users_ll.append(line_contents)\n",
        "print(\"Total users in the dataset are: {count}\".format(count=len(users_ll)))"
      ],
      "metadata": {
        "colab": {
          "base_uri": "https://localhost:8080/"
        },
        "id": "72jrnQTPxCR1",
        "outputId": "2b76f526-2aa9-460c-a8cb-a5bd6beb00a5"
      },
      "execution_count": 4,
      "outputs": [
        {
          "output_type": "stream",
          "name": "stdout",
          "text": [
            "Total users in the dataset are: 1987897\n"
          ]
        }
      ]
    },
    {
      "cell_type": "markdown",
      "source": [
        "# Study attributes of users "
      ],
      "metadata": {
        "id": "pzjy9hrdy9sh"
      }
    },
    {
      "cell_type": "code",
      "source": [
        "users = pd.DataFrame(users_ll)\n",
        "users.shape"
      ],
      "metadata": {
        "colab": {
          "base_uri": "https://localhost:8080/"
        },
        "id": "xdcq2Wv5xXM5",
        "outputId": "d6545a41-0e2d-459f-f4a1-d637a27a0eee"
      },
      "execution_count": 15,
      "outputs": [
        {
          "output_type": "execute_result",
          "data": {
            "text/plain": [
              "(1987897, 22)"
            ]
          },
          "metadata": {},
          "execution_count": 15
        }
      ]
    },
    {
      "cell_type": "code",
      "source": [
        "users.columns"
      ],
      "metadata": {
        "colab": {
          "base_uri": "https://localhost:8080/"
        },
        "id": "C1rAg4CzxZ6q",
        "outputId": "04a7a86f-271e-4637-cc69-c7233868c579"
      },
      "execution_count": 13,
      "outputs": [
        {
          "output_type": "execute_result",
          "data": {
            "text/plain": [
              "Index(['user_id', 'name', 'review_count', 'yelping_since', 'useful', 'funny',\n",
              "       'cool', 'elite', 'friends', 'fans', 'average_stars', 'compliment_hot',\n",
              "       'compliment_more', 'compliment_profile', 'compliment_cute',\n",
              "       'compliment_list', 'compliment_note', 'compliment_plain',\n",
              "       'compliment_cool', 'compliment_funny', 'compliment_writer',\n",
              "       'compliment_photos'],\n",
              "      dtype='object')"
            ]
          },
          "metadata": {},
          "execution_count": 13
        }
      ]
    },
    {
      "cell_type": "markdown",
      "source": [
        "## Filter out users of California only\n",
        "We have done this because:\n",
        "1. The dataset is huge. It is difficult to work with it because of the RAM and CPU limitations of our local machine\n",
        "2. To Study the data that is geographically relevant to us- California."
      ],
      "metadata": {
        "id": "9wXMgCpG5QUH"
      }
    },
    {
      "cell_type": "code",
      "source": [
        "ca_review_path = '/content/drive/MyDrive/CMPE256/Data/CSVfiles/California_reviews.csv'\n",
        "reviews = pd.read_csv(ca_review_path)\n",
        "user_ids = reviews.user_id\n",
        "users_ca = users[users['user_id'].isin(user_ids)]\n",
        "users_ca.shape"
      ],
      "metadata": {
        "colab": {
          "base_uri": "https://localhost:8080/"
        },
        "id": "Gkgr5O2SqlyK",
        "outputId": "793ba74a-0f07-42a4-d5da-1234f46598c7"
      },
      "execution_count": 14,
      "outputs": [
        {
          "output_type": "execute_result",
          "data": {
            "text/plain": [
              "(115258, 22)"
            ]
          },
          "metadata": {},
          "execution_count": 14
        }
      ]
    },
    {
      "cell_type": "code",
      "source": [
        "users_ca.average_stars.hist()\n",
        "plt.xlabel(\"Ratings\")\n",
        "plt.ylabel(\"Users Count\")\n",
        "plt.title('CA Users versus Ratings')\n",
        "plt.savefig(\"EDA_CA_Users_versus_Ratings.png\")"
      ],
      "metadata": {
        "colab": {
          "base_uri": "https://localhost:8080/",
          "height": 295
        },
        "id": "1TLYoP4Xq3Tn",
        "outputId": "819f2666-a297-4cce-b2b2-6617fee4935c"
      },
      "execution_count": 22,
      "outputs": [
        {
          "output_type": "display_data",
          "data": {
            "text/plain": [
              "<Figure size 432x288 with 1 Axes>"
            ],
            "image/png": "[encoded data removed]"
          },
          "metadata": {
            "needs_background": "light"
          }
        }
      ]
    },
    {
      "cell_type": "markdown",
      "source": [
        "## Removing users with zero reviews"
      ],
      "metadata": {
        "id": "KwrBSAji9msZ"
      }
    },
    {
      "cell_type": "code",
      "source": [
        "print(\"Number of users with zero reviews:\")\n",
        "len(users_ca.loc[users_ca['review_count'] == 0])"
      ],
      "metadata": {
        "colab": {
          "base_uri": "https://localhost:8080/"
        },
        "id": "9YvfNORNq6zu",
        "outputId": "1a5334b0-5499-494c-9829-84bb0b222748"
      },
      "execution_count": 26,
      "outputs": [
        {
          "output_type": "stream",
          "name": "stdout",
          "text": [
            "Number of users with zero reviews:\n"
          ]
        },
        {
          "output_type": "execute_result",
          "data": {
            "text/plain": [
              "2"
            ]
          },
          "metadata": {},
          "execution_count": 26
        }
      ]
    },
    {
      "cell_type": "code",
      "source": [
        "users_ca = users_ca[users_ca.review_count != 0]\n",
        "users_ca.shape"
      ],
      "metadata": {
        "colab": {
          "base_uri": "https://localhost:8080/"
        },
        "id": "OsG0-7WXq-bD",
        "outputId": "32087a50-fc93-4467-ca46-7a7eb90eea62"
      },
      "execution_count": 28,
      "outputs": [
        {
          "output_type": "execute_result",
          "data": {
            "text/plain": [
              "(115256, 22)"
            ]
          },
          "metadata": {},
          "execution_count": 28
        }
      ]
    },
    {
      "cell_type": "markdown",
      "source": [
        "##Studying users based on review count"
      ],
      "metadata": {
        "id": "0GHdFvyJABvQ"
      }
    },
    {
      "cell_type": "code",
      "source": [
        "## counting users with less than and more than 100 reviews\n",
        "less_than_100 = len(users_ca.loc[users_ca['review_count'] < 100])\n",
        "more_than_1000 = len(users_ca.loc[users_ca['review_count'] >= 1000])\n",
        "more_than_100 = len(users_ca.loc[users_ca['review_count'] >= 100])\n",
        "\n",
        "print('Users with reviews count less than 100 = ', less_than_100)\n",
        "print('Users with reviews count more than 100 but less than 1000 = ', more_than_100 - more_than_1000)\n",
        "print('Users with reviews count more than 1000 = ', more_than_1000)"
      ],
      "metadata": {
        "colab": {
          "base_uri": "https://localhost:8080/"
        },
        "id": "XN3HJVs8_Q4d",
        "outputId": "faeeafda-84b4-4b3b-c1e3-dbcaa9b56437"
      },
      "execution_count": 40,
      "outputs": [
        {
          "output_type": "stream",
          "name": "stdout",
          "text": [
            "Users with reviews count less than 100 =  100229\n",
            "Users with reviews count more than 100 but less than 1000 =  14381\n",
            "Users with reviews count more than 1000 =  646\n"
          ]
        }
      ]
    },
    {
      "cell_type": "code",
      "source": [
        "my_data = [less_than_100, more_than_100 - more_than_1000, more_than_1000]\n",
        "my_labels = '#reviews < 100','100 <= #reviews < 1000','#reviews >= 1000'\n",
        "explode = (0.05, 0.05, 0.05)\n",
        "plt.pie(my_data,labels=my_labels, autopct='%1.0f%%', explode = explode)\n",
        "plt.title('Count of reviews by users')\n",
        "plt.axis('equal')\n",
        "plt.savefig(\"EDA_Count_of _reviews_by_users.png\")"
      ],
      "metadata": {
        "colab": {
          "base_uri": "https://localhost:8080/",
          "height": 264
        },
        "id": "QCixwVPoCfTw",
        "outputId": "d14aceb4-b79a-4645-acc9-75763bfa967e"
      },
      "execution_count": 52,
      "outputs": [
        {
          "output_type": "display_data",
          "data": {
            "text/plain": [
              "<Figure size 432x288 with 1 Axes>"
            ],
            "image/png": "[encoded data removed]"
          },
          "metadata": {}
        }
      ]
    },
    {
      "cell_type": "markdown",
      "source": [
        "##Studying the correlation of attributes with average_stars"
      ],
      "metadata": {
        "id": "S2YAKxpQMGOy"
      }
    },
    {
      "cell_type": "code",
      "source": [
        "users_ca.corr()"
      ],
      "metadata": {
        "colab": {
          "base_uri": "https://localhost:8080/",
          "height": 646
        },
        "id": "UVvoPDWtJ8tv",
        "outputId": "a651a1c2-48da-4b19-97e8-f9779140a77b"
      },
      "execution_count": 53,
      "outputs": [
        {
          "output_type": "execute_result",
          "data": {
            "text/plain": [
              "                    review_count    useful     funny      cool      fans  \\\n",
              "review_count            1.000000  0.540995  0.435248  0.473380  0.615385   \n",
              "useful                  0.540995  1.000000  0.972868  0.994561  0.700777   \n",
              "funny                   0.435248  0.972868  1.000000  0.982705  0.623132   \n",
              "cool                    0.473380  0.994561  0.982705  1.000000  0.655107   \n",
              "fans                    0.615385  0.700777  0.623132  0.655107  1.000000   \n",
              "average_stars          -0.009971 -0.003421 -0.003127  0.000646  0.002849   \n",
              "compliment_hot          0.318004  0.710051  0.737790  0.720002  0.524602   \n",
              "compliment_more         0.305656  0.758126  0.831747  0.771288  0.462436   \n",
              "compliment_profile      0.230041  0.618678  0.687966  0.632516  0.366308   \n",
              "compliment_cute         0.254157  0.527670  0.581231  0.533157  0.442316   \n",
              "compliment_list         0.224115  0.570402  0.642246  0.579811  0.367575   \n",
              "compliment_note         0.405691  0.791438  0.804015  0.789835  0.640898   \n",
              "compliment_plain        0.350041  0.803217  0.820797  0.804497  0.663013   \n",
              "compliment_cool         0.348740  0.818877  0.852136  0.830702  0.563846   \n",
              "compliment_funny        0.348740  0.818877  0.852136  0.830702  0.563846   \n",
              "compliment_writer       0.352132  0.797705  0.855258  0.805028  0.540684   \n",
              "compliment_photos       0.227447  0.778783  0.826962  0.805598  0.399829   \n",
              "\n",
              "                    average_stars  compliment_hot  compliment_more  \\\n",
              "review_count            -0.009971        0.318004         0.305656   \n",
              "useful                  -0.003421        0.710051         0.758126   \n",
              "funny                   -0.003127        0.737790         0.831747   \n",
              "cool                     0.000646        0.720002         0.771288   \n",
              "fans                     0.002849        0.524602         0.462436   \n",
              "average_stars            1.000000       -0.000763        -0.003738   \n",
              "compliment_hot          -0.000763        1.000000         0.805731   \n",
              "compliment_more         -0.003738        0.805731         1.000000   \n",
              "compliment_profile      -0.001904        0.802212         0.917566   \n",
              "compliment_cute         -0.002059        0.817765         0.796732   \n",
              "compliment_list         -0.002990        0.718932         0.884146   \n",
              "compliment_note         -0.003122        0.869116         0.841421   \n",
              "compliment_plain         0.000691        0.790647         0.831594   \n",
              "compliment_cool         -0.000875        0.922863         0.899007   \n",
              "compliment_funny        -0.000875        0.922863         0.899007   \n",
              "compliment_writer       -0.002841        0.827653         0.930060   \n",
              "compliment_photos        0.001203        0.792757         0.845475   \n",
              "\n",
              "                    compliment_profile  compliment_cute  compliment_list  \\\n",
              "review_count                  0.230041         0.254157         0.224115   \n",
              "useful                        0.618678         0.527670         0.570402   \n",
              "funny                         0.687966         0.581231         0.642246   \n",
              "cool                          0.632516         0.533157         0.579811   \n",
              "fans                          0.366308         0.442316         0.367575   \n",
              "average_stars                -0.001904        -0.002059        -0.002990   \n",
              "compliment_hot                0.802212         0.817765         0.718932   \n",
              "compliment_more               0.917566         0.796732         0.884146   \n",
              "compliment_profile            1.000000         0.880204         0.950388   \n",
              "compliment_cute               0.880204         1.000000         0.871543   \n",
              "compliment_list               0.950388         0.871543         1.000000   \n",
              "compliment_note               0.745703         0.711573         0.703680   \n",
              "compliment_plain              0.755691         0.665239         0.721938   \n",
              "compliment_cool               0.846070         0.763484         0.779830   \n",
              "compliment_funny              0.846070         0.763484         0.779830   \n",
              "compliment_writer             0.828578         0.702371         0.761174   \n",
              "compliment_photos             0.805419         0.675907         0.756576   \n",
              "\n",
              "                    compliment_note  compliment_plain  compliment_cool  \\\n",
              "review_count               0.405691          0.350041         0.348740   \n",
              "useful                     0.791438          0.803217         0.818877   \n",
              "funny                      0.804015          0.820797         0.852136   \n",
              "cool                       0.789835          0.804497         0.830702   \n",
              "fans                       0.640898          0.663013         0.563846   \n",
              "average_stars             -0.003122          0.000691        -0.000875   \n",
              "compliment_hot             0.869116          0.790647         0.922863   \n",
              "compliment_more            0.841421          0.831594         0.899007   \n",
              "compliment_profile         0.745703          0.755691         0.846070   \n",
              "compliment_cute            0.711573          0.665239         0.763484   \n",
              "compliment_list            0.703680          0.721938         0.779830   \n",
              "compliment_note            1.000000          0.896637         0.933067   \n",
              "compliment_plain           0.896637          1.000000         0.914678   \n",
              "compliment_cool            0.933067          0.914678         1.000000   \n",
              "compliment_funny           0.933067          0.914678         1.000000   \n",
              "compliment_writer          0.853814          0.840788         0.908554   \n",
              "compliment_photos          0.774817          0.796330         0.874470   \n",
              "\n",
              "                    compliment_funny  compliment_writer  compliment_photos  \n",
              "review_count                0.348740           0.352132           0.227447  \n",
              "useful                      0.818877           0.797705           0.778783  \n",
              "funny                       0.852136           0.855258           0.826962  \n",
              "cool                        0.830702           0.805028           0.805598  \n",
              "fans                        0.563846           0.540684           0.399829  \n",
              "average_stars              -0.000875          -0.002841           0.001203  \n",
              "compliment_hot              0.922863           0.827653           0.792757  \n",
              "compliment_more             0.899007           0.930060           0.845475  \n",
              "compliment_profile          0.846070           0.828578           0.805419  \n",
              "compliment_cute             0.763484           0.702371           0.675907  \n",
              "compliment_list             0.779830           0.761174           0.756576  \n",
              "compliment_note             0.933067           0.853814           0.774817  \n",
              "compliment_plain            0.914678           0.840788           0.796330  \n",
              "compliment_cool             1.000000           0.908554           0.874470  \n",
              "compliment_funny            1.000000           0.908554           0.874470  \n",
              "compliment_writer           0.908554           1.000000           0.809583  \n",
              "compliment_photos           0.874470           0.809583           1.000000  "
            ],
            "text/html": [
              "\n",
              "  <div id=\"df-5ad32e4d-4344-4383-a7ad-1051e8ec6090\">\n",
              "    <div class=\"colab-df-container\">\n",
              "      <div>\n",
              "<style scoped>\n",
              "    .dataframe tbody tr th:only-of-type {\n",
              "        vertical-align: middle;\n",
              "    }\n",
              "\n",
              "    .dataframe tbody tr th {\n",
              "        vertical-align: top;\n",
              "    }\n",
              "\n",
              "    .dataframe thead th {\n",
              "        text-align: right;\n",
              "    }\n",
              "</style>\n",
              "<table border=\"1\" class=\"dataframe\">\n",
              "  <thead>\n",
              "    <tr style=\"text-align: right;\">\n",
              "      <th></th>\n",
              "      <th>review_count</th>\n",
              "      <th>useful</th>\n",
              "      <th>funny</th>\n",
              "      <th>cool</th>\n",
              "      <th>fans</th>\n",
              "      <th>average_stars</th>\n",
              "      <th>compliment_hot</th>\n",
              "      <th>compliment_more</th>\n",
              "      <th>compliment_profile</th>\n",
              "      <th>compliment_cute</th>\n",
              "      <th>compliment_list</th>\n",
              "      <th>compliment_note</th>\n",
              "      <th>compliment_plain</th>\n",
              "      <th>compliment_cool</th>\n",
              "      <th>compliment_funny</th>\n",
              "      <th>compliment_writer</th>\n",
              "      <th>compliment_photos</th>\n",
              "    </tr>\n",
              "  </thead>\n",
              "  <tbody>\n",
              "    <tr>\n",
              "      <th>review_count</th>\n",
              "      <td>1.000000</td>\n",
              "      <td>0.540995</td>\n",
              "      <td>0.435248</td>\n",
              "      <td>0.473380</td>\n",
              "      <td>0.615385</td>\n",
              "      <td>-0.009971</td>\n",
              "      <td>0.318004</td>\n",
              "      <td>0.305656</td>\n",
              "      <td>0.230041</td>\n",
              "      <td>0.254157</td>\n",
              "      <td>0.224115</td>\n",
              "      <td>0.405691</td>\n",
              "      <td>0.350041</td>\n",
              "      <td>0.348740</td>\n",
              "      <td>0.348740</td>\n",
              "      <td>0.352132</td>\n",
              "      <td>0.227447</td>\n",
              "    </tr>\n",
              "    <tr>\n",
              "      <th>useful</th>\n",
              "      <td>0.540995</td>\n",
              "      <td>1.000000</td>\n",
              "      <td>0.972868</td>\n",
              "      <td>0.994561</td>\n",
              "      <td>0.700777</td>\n",
              "      <td>-0.003421</td>\n",
              "      <td>0.710051</td>\n",
              "      <td>0.758126</td>\n",
              "      <td>0.618678</td>\n",
              "      <td>0.527670</td>\n",
              "      <td>0.570402</td>\n",
              "      <td>0.791438</td>\n",
              "      <td>0.803217</td>\n",
              "      <td>0.818877</td>\n",
              "      <td>0.818877</td>\n",
              "      <td>0.797705</td>\n",
              "      <td>0.778783</td>\n",
              "    </tr>\n",
              "    <tr>\n",
              "      <th>funny</th>\n",
              "      <td>0.435248</td>\n",
              "      <td>0.972868</td>\n",
              "      <td>1.000000</td>\n",
              "      <td>0.982705</td>\n",
              "      <td>0.623132</td>\n",
              "      <td>-0.003127</td>\n",
              "      <td>0.737790</td>\n",
              "      <td>0.831747</td>\n",
              "      <td>0.687966</td>\n",
              "      <td>0.581231</td>\n",
              "      <td>0.642246</td>\n",
              "      <td>0.804015</td>\n",
              "      <td>0.820797</td>\n",
              "      <td>0.852136</td>\n",
              "      <td>0.852136</td>\n",
              "      <td>0.855258</td>\n",
              "      <td>0.826962</td>\n",
              "    </tr>\n",
              "    <tr>\n",
              "      <th>cool</th>\n",
              "      <td>0.473380</td>\n",
              "      <td>0.994561</td>\n",
              "      <td>0.982705</td>\n",
              "      <td>1.000000</td>\n",
              "      <td>0.655107</td>\n",
              "      <td>0.000646</td>\n",
              "      <td>0.720002</td>\n",
              "      <td>0.771288</td>\n",
              "      <td>0.632516</td>\n",
              "      <td>0.533157</td>\n",
              "      <td>0.579811</td>\n",
              "      <td>0.789835</td>\n",
              "      <td>0.804497</td>\n",
              "      <td>0.830702</td>\n",
              "      <td>0.830702</td>\n",
              "      <td>0.805028</td>\n",
              "      <td>0.805598</td>\n",
              "    </tr>\n",
              "    <tr>\n",
              "      <th>fans</th>\n",
              "      <td>0.615385</td>\n",
              "      <td>0.700777</td>\n",
              "      <td>0.623132</td>\n",
              "      <td>0.655107</td>\n",
              "      <td>1.000000</td>\n",
              "      <td>0.002849</td>\n",
              "      <td>0.524602</td>\n",
              "      <td>0.462436</td>\n",
              "      <td>0.366308</td>\n",
              "      <td>0.442316</td>\n",
              "      <td>0.367575</td>\n",
              "      <td>0.640898</td>\n",
              "      <td>0.663013</td>\n",
              "      <td>0.563846</td>\n",
              "      <td>0.563846</td>\n",
              "      <td>0.540684</td>\n",
              "      <td>0.399829</td>\n",
              "    </tr>\n",
              "    <tr>\n",
              "      <th>average_stars</th>\n",
              "      <td>-0.009971</td>\n",
              "      <td>-0.003421</td>\n",
              "      <td>-0.003127</td>\n",
              "      <td>0.000646</td>\n",
              "      <td>0.002849</td>\n",
              "      <td>1.000000</td>\n",
              "      <td>-0.000763</td>\n",
              "      <td>-0.003738</td>\n",
              "      <td>-0.001904</td>\n",
              "      <td>-0.002059</td>\n",
              "      <td>-0.002990</td>\n",
              "      <td>-0.003122</td>\n",
              "      <td>0.000691</td>\n",
              "      <td>-0.000875</td>\n",
              "      <td>-0.000875</td>\n",
              "      <td>-0.002841</td>\n",
              "      <td>0.001203</td>\n",
              "    </tr>\n",
              "    <tr>\n",
              "      <th>compliment_hot</th>\n",
              "      <td>0.318004</td>\n",
              "      <td>0.710051</td>\n",
              "      <td>0.737790</td>\n",
              "      <td>0.720002</td>\n",
              "      <td>0.524602</td>\n",
              "      <td>-0.000763</td>\n",
              "      <td>1.000000</td>\n",
              "      <td>0.805731</td>\n",
              "      <td>0.802212</td>\n",
              "      <td>0.817765</td>\n",
              "      <td>0.718932</td>\n",
              "      <td>0.869116</td>\n",
              "      <td>0.790647</td>\n",
              "      <td>0.922863</td>\n",
              "      <td>0.922863</td>\n",
              "      <td>0.827653</td>\n",
              "      <td>0.792757</td>\n",
              "    </tr>\n",
              "    <tr>\n",
              "      <th>compliment_more</th>\n",
              "      <td>0.305656</td>\n",
              "      <td>0.758126</td>\n",
              "      <td>0.831747</td>\n",
              "      <td>0.771288</td>\n",
              "      <td>0.462436</td>\n",
              "      <td>-0.003738</td>\n",
              "      <td>0.805731</td>\n",
              "      <td>1.000000</td>\n",
              "      <td>0.917566</td>\n",
              "      <td>0.796732</td>\n",
              "      <td>0.884146</td>\n",
              "      <td>0.841421</td>\n",
              "      <td>0.831594</td>\n",
              "      <td>0.899007</td>\n",
              "      <td>0.899007</td>\n",
              "      <td>0.930060</td>\n",
              "      <td>0.845475</td>\n",
              "    </tr>\n",
              "    <tr>\n",
              "      <th>compliment_profile</th>\n",
              "      <td>0.230041</td>\n",
              "      <td>0.618678</td>\n",
              "      <td>0.687966</td>\n",
              "      <td>0.632516</td>\n",
              "      <td>0.366308</td>\n",
              "      <td>-0.001904</td>\n",
              "      <td>0.802212</td>\n",
              "      <td>0.917566</td>\n",
              "      <td>1.000000</td>\n",
              "      <td>0.880204</td>\n",
              "      <td>0.950388</td>\n",
              "      <td>0.745703</td>\n",
              "      <td>0.755691</td>\n",
              "      <td>0.846070</td>\n",
              "      <td>0.846070</td>\n",
              "      <td>0.828578</td>\n",
              "      <td>0.805419</td>\n",
              "    </tr>\n",
              "    <tr>\n",
              "      <th>compliment_cute</th>\n",
              "      <td>0.254157</td>\n",
              "      <td>0.527670</td>\n",
              "      <td>0.581231</td>\n",
              "      <td>0.533157</td>\n",
              "      <td>0.442316</td>\n",
              "      <td>-0.002059</td>\n",
              "      <td>0.817765</td>\n",
              "      <td>0.796732</td>\n",
              "      <td>0.880204</td>\n",
              "      <td>1.000000</td>\n",
              "      <td>0.871543</td>\n",
              "      <td>0.711573</td>\n",
              "      <td>0.665239</td>\n",
              "      <td>0.763484</td>\n",
              "      <td>0.763484</td>\n",
              "      <td>0.702371</td>\n",
              "      <td>0.675907</td>\n",
              "    </tr>\n",
              "    <tr>\n",
              "      <th>compliment_list</th>\n",
              "      <td>0.224115</td>\n",
              "      <td>0.570402</td>\n",
              "      <td>0.642246</td>\n",
              "      <td>0.579811</td>\n",
              "      <td>0.367575</td>\n",
              "      <td>-0.002990</td>\n",
              "      <td>0.718932</td>\n",
              "      <td>0.884146</td>\n",
              "      <td>0.950388</td>\n",
              "      <td>0.871543</td>\n",
              "      <td>1.000000</td>\n",
              "      <td>0.703680</td>\n",
              "      <td>0.721938</td>\n",
              "      <td>0.779830</td>\n",
              "      <td>0.779830</td>\n",
              "      <td>0.761174</td>\n",
              "      <td>0.756576</td>\n",
              "    </tr>\n",
              "    <tr>\n",
              "      <th>compliment_note</th>\n",
              "      <td>0.405691</td>\n",
              "      <td>0.791438</td>\n",
              "      <td>0.804015</td>\n",
              "      <td>0.789835</td>\n",
              "      <td>0.640898</td>\n",
              "      <td>-0.003122</td>\n",
              "      <td>0.869116</td>\n",
              "      <td>0.841421</td>\n",
              "      <td>0.745703</td>\n",
              "      <td>0.711573</td>\n",
              "      <td>0.703680</td>\n",
              "      <td>1.000000</td>\n",
              "      <td>0.896637</td>\n",
              "      <td>0.933067</td>\n",
              "      <td>0.933067</td>\n",
              "      <td>0.853814</td>\n",
              "      <td>0.774817</td>\n",
              "    </tr>\n",
              "    <tr>\n",
              "      <th>compliment_plain</th>\n",
              "      <td>0.350041</td>\n",
              "      <td>0.803217</td>\n",
              "      <td>0.820797</td>\n",
              "      <td>0.804497</td>\n",
              "      <td>0.663013</td>\n",
              "      <td>0.000691</td>\n",
              "      <td>0.790647</td>\n",
              "      <td>0.831594</td>\n",
              "      <td>0.755691</td>\n",
              "      <td>0.665239</td>\n",
              "      <td>0.721938</td>\n",
              "      <td>0.896637</td>\n",
              "      <td>1.000000</td>\n",
              "      <td>0.914678</td>\n",
              "      <td>0.914678</td>\n",
              "      <td>0.840788</td>\n",
              "      <td>0.796330</td>\n",
              "    </tr>\n",
              "    <tr>\n",
              "      <th>compliment_cool</th>\n",
              "      <td>0.348740</td>\n",
              "      <td>0.818877</td>\n",
              "      <td>0.852136</td>\n",
              "      <td>0.830702</td>\n",
              "      <td>0.563846</td>\n",
              "      <td>-0.000875</td>\n",
              "      <td>0.922863</td>\n",
              "      <td>0.899007</td>\n",
              "      <td>0.846070</td>\n",
              "      <td>0.763484</td>\n",
              "      <td>0.779830</td>\n",
              "      <td>0.933067</td>\n",
              "      <td>0.914678</td>\n",
              "      <td>1.000000</td>\n",
              "      <td>1.000000</td>\n",
              "      <td>0.908554</td>\n",
              "      <td>0.874470</td>\n",
              "    </tr>\n",
              "    <tr>\n",
              "      <th>compliment_funny</th>\n",
              "      <td>0.348740</td>\n",
              "      <td>0.818877</td>\n",
              "      <td>0.852136</td>\n",
              "      <td>0.830702</td>\n",
              "      <td>0.563846</td>\n",
              "      <td>-0.000875</td>\n",
              "      <td>0.922863</td>\n",
              "      <td>0.899007</td>\n",
              "      <td>0.846070</td>\n",
              "      <td>0.763484</td>\n",
              "      <td>0.779830</td>\n",
              "      <td>0.933067</td>\n",
              "      <td>0.914678</td>\n",
              "      <td>1.000000</td>\n",
              "      <td>1.000000</td>\n",
              "      <td>0.908554</td>\n",
              "      <td>0.874470</td>\n",
              "    </tr>\n",
              "    <tr>\n",
              "      <th>compliment_writer</th>\n",
              "      <td>0.352132</td>\n",
              "      <td>0.797705</td>\n",
              "      <td>0.855258</td>\n",
              "      <td>0.805028</td>\n",
              "      <td>0.540684</td>\n",
              "      <td>-0.002841</td>\n",
              "      <td>0.827653</td>\n",
              "      <td>0.930060</td>\n",
              "      <td>0.828578</td>\n",
              "      <td>0.702371</td>\n",
              "      <td>0.761174</td>\n",
              "      <td>0.853814</td>\n",
              "      <td>0.840788</td>\n",
              "      <td>0.908554</td>\n",
              "      <td>0.908554</td>\n",
              "      <td>1.000000</td>\n",
              "      <td>0.809583</td>\n",
              "    </tr>\n",
              "    <tr>\n",
              "      <th>compliment_photos</th>\n",
              "      <td>0.227447</td>\n",
              "      <td>0.778783</td>\n",
              "      <td>0.826962</td>\n",
              "      <td>0.805598</td>\n",
              "      <td>0.399829</td>\n",
              "      <td>0.001203</td>\n",
              "      <td>0.792757</td>\n",
              "      <td>0.845475</td>\n",
              "      <td>0.805419</td>\n",
              "      <td>0.675907</td>\n",
              "      <td>0.756576</td>\n",
              "      <td>0.774817</td>\n",
              "      <td>0.796330</td>\n",
              "      <td>0.874470</td>\n",
              "      <td>0.874470</td>\n",
              "      <td>0.809583</td>\n",
              "      <td>1.000000</td>\n",
              "    </tr>\n",
              "  </tbody>\n",
              "</table>\n",
              "</div>\n",
              "      <button class=\"colab-df-convert\" onclick=\"convertToInteractive('df-5ad32e4d-4344-4383-a7ad-1051e8ec6090')\"\n",
              "              title=\"Convert this dataframe to an interactive table.\"\n",
              "              style=\"display:none;\">\n",
              "        \n",
              "  <svg xmlns=\"http://www.w3.org/2000/svg\" height=\"24px\"viewBox=\"0 0 24 24\"\n",
              "       width=\"24px\">\n",
              "    <path d=\"M0 0h24v24H0V0z\" fill=\"none\"/>\n",
              "    <path d=\"M18.56 5.44l.94 2.06.94-2.06 2.06-.94-2.06-.94-.94-2.06-.94 2.06-2.06.94zm-11 1L8.5 8.5l.94-2.06 2.06-.94-2.06-.94L8.5 2.5l-.94 2.06-2.06.94zm10 10l.94 2.06.94-2.06 2.06-.94-2.06-.94-.94-2.06-.94 2.06-2.06.94z\"/><path d=\"M17.41 7.96l-1.37-1.37c-.4-.4-.92-.59-1.43-.59-.52 0-1.04.2-1.43.59L10.3 9.45l-7.72 7.72c-.78.78-.78 2.05 0 2.83L4 21.41c.39.39.9.59 1.41.59.51 0 1.02-.2 1.41-.59l7.78-7.78 2.81-2.81c.8-.78.8-2.07 0-2.86zM5.41 20L4 18.59l7.72-7.72 1.47 1.35L5.41 20z\"/>\n",
              "  </svg>\n",
              "      </button>\n",
              "      \n",
              "  <style>\n",
              "    .colab-df-container {\n",
              "      display:flex;\n",
              "      flex-wrap:wrap;\n",
              "      gap: 12px;\n",
              "    }\n",
              "\n",
              "    .colab-df-convert {\n",
              "      background-color: #E8F0FE;\n",
              "      border: none;\n",
              "      border-radius: 50%;\n",
              "      cursor: pointer;\n",
              "      display: none;\n",
              "      fill: #1967D2;\n",
              "      height: 32px;\n",
              "      padding: 0 0 0 0;\n",
              "      width: 32px;\n",
              "    }\n",
              "\n",
              "    .colab-df-convert:hover {\n",
              "      background-color: #E2EBFA;\n",
              "      box-shadow: 0px 1px 2px rgba(60, 64, 67, 0.3), 0px 1px 3px 1px rgba(60, 64, 67, 0.15);\n",
              "      fill: #174EA6;\n",
              "    }\n",
              "\n",
              "    [theme=dark] .colab-df-convert {\n",
              "      background-color: #3B4455;\n",
              "      fill: #D2E3FC;\n",
              "    }\n",
              "\n",
              "    [theme=dark] .colab-df-convert:hover {\n",
              "      background-color: #434B5C;\n",
              "      box-shadow: 0px 1px 3px 1px rgba(0, 0, 0, 0.15);\n",
              "      filter: drop-shadow(0px 1px 2px rgba(0, 0, 0, 0.3));\n",
              "      fill: #FFFFFF;\n",
              "    }\n",
              "  </style>\n",
              "\n",
              "      <script>\n",
              "        const buttonEl =\n",
              "          document.querySelector('#df-5ad32e4d-4344-4383-a7ad-1051e8ec6090 button.colab-df-convert');\n",
              "        buttonEl.style.display =\n",
              "          google.colab.kernel.accessAllowed ? 'block' : 'none';\n",
              "\n",
              "        async function convertToInteractive(key) {\n",
              "          const element = document.querySelector('#df-5ad32e4d-4344-4383-a7ad-1051e8ec6090');\n",
              "          const dataTable =\n",
              "            await google.colab.kernel.invokeFunction('convertToInteractive',\n",
              "                                                     [key], {});\n",
              "          if (!dataTable) return;\n",
              "\n",
              "          const docLinkHtml = 'Like what you see? Visit the ' +\n",
              "            '<a target=\"_blank\" href=https://colab.research.google.com/notebooks/data_table.ipynb>data table notebook</a>'\n",
              "            + ' to learn more about interactive tables.';\n",
              "          element.innerHTML = '';\n",
              "          dataTable['output_type'] = 'display_data';\n",
              "          await google.colab.output.renderOutput(dataTable, element);\n",
              "          const docLink = document.createElement('div');\n",
              "          docLink.innerHTML = docLinkHtml;\n",
              "          element.appendChild(docLink);\n",
              "        }\n",
              "      </script>\n",
              "    </div>\n",
              "  </div>\n",
              "  "
            ]
          },
          "metadata": {},
          "execution_count": 53
        }
      ]
    },
    {
      "cell_type": "markdown",
      "source": [
        "Droping the columns which have very less <(0.0010) correlation with average_stars"
      ],
      "metadata": {
        "id": "hZoGaHehMQs3"
      }
    },
    {
      "cell_type": "code",
      "source": [
        "users_ca = users_ca.drop(['cool', 'compliment_hot','compliment_plain', 'compliment_cool','compliment_funny'], axis=1)"
      ],
      "metadata": {
        "id": "f37lox7wKkwu"
      },
      "execution_count": 55,
      "outputs": []
    },
    {
      "cell_type": "code",
      "source": [
        "users_ca.head(5)"
      ],
      "metadata": {
        "colab": {
          "base_uri": "https://localhost:8080/",
          "height": 357
        },
        "id": "YPCozNf8Lafv",
        "outputId": "a31ab5e5-2149-4f2f-c150-c463a4accd00"
      },
      "execution_count": 56,
      "outputs": [
        {
          "output_type": "execute_result",
          "data": {
            "text/plain": [
              "                   user_id       name  review_count        yelping_since  \\\n",
              "0   qVc8ODYU5SZjKXVBgXdI7w     Walker           585  2007-01-25 16:47:26   \n",
              "3   SZDeASXq7o05mMNLshsdIA       Gwen           224  2005-11-29 04:38:33   \n",
              "5   q_QQ5kBBwlCcbL1s4NVK3g       Jane          1221  2005-03-14 20:26:35   \n",
              "10  iYzhPPqnrjJkg1JHZyMhzA      Chris             4  2010-11-03 18:59:20   \n",
              "18  QF1Kuhs8iwLWANNZxebTow  Catherine           607  2009-04-27 20:25:54   \n",
              "\n",
              "    useful  funny                                              elite  \\\n",
              "0     7217   1259                                               2007   \n",
              "3      512    330                                     2009,2010,2011   \n",
              "5    14953   9940       2006,2007,2008,2009,2010,2011,2012,2013,2014   \n",
              "10       1      0                                                      \n",
              "18    4573   3714  2010,2011,2012,2013,2014,2015,2016,2017,2018,2...   \n",
              "\n",
              "                                              friends  fans  average_stars  \\\n",
              "0   NSCy54eWehBJyZdG2iE84w, pe42u7DcCH2QmI81NX-8qA...   267           3.91   \n",
              "3   enx1vVPnfdNUdPho6PH_wg, 4wOcvMLtU6a9Lslggq74Vg...    28           4.27   \n",
              "5   xBDpTUbai0DXrvxCe3X16Q, 7GPNBO496aecrjJfW6UWtg...  1357           3.85   \n",
              "10  Vq4Pc81l6MWTnc-h41YE-Q, ArMLZPW4GljwhopfoQA-uw...     1           4.00   \n",
              "18  dLts9bY66tXEFqYG03YFgw, SYDGMC7d5NnMiT1l_WQq5A...   131           4.11   \n",
              "\n",
              "    compliment_more  compliment_profile  compliment_cute  compliment_list  \\\n",
              "0                65                  55               56               18   \n",
              "3                 4                   1                6                2   \n",
              "5               163                 191              361              147   \n",
              "10                0                   0                0                0   \n",
              "18               79                  68               29               23   \n",
              "\n",
              "    compliment_note  compliment_writer  compliment_photos  \n",
              "0               232                239                180  \n",
              "3                12                 10                  9  \n",
              "5              1212                815                323  \n",
              "10                0                  0                  0  \n",
              "18              144                587                723  "
            ],
            "text/html": [
              "\n",
              "  <div id=\"df-16d2688f-f11a-4334-b336-0d0c1dccf800\">\n",
              "    <div class=\"colab-df-container\">\n",
              "      <div>\n",
              "<style scoped>\n",
              "    .dataframe tbody tr th:only-of-type {\n",
              "        vertical-align: middle;\n",
              "    }\n",
              "\n",
              "    .dataframe tbody tr th {\n",
              "        vertical-align: top;\n",
              "    }\n",
              "\n",
              "    .dataframe thead th {\n",
              "        text-align: right;\n",
              "    }\n",
              "</style>\n",
              "<table border=\"1\" class=\"dataframe\">\n",
              "  <thead>\n",
              "    <tr style=\"text-align: right;\">\n",
              "      <th></th>\n",
              "      <th>user_id</th>\n",
              "      <th>name</th>\n",
              "      <th>review_count</th>\n",
              "      <th>yelping_since</th>\n",
              "      <th>useful</th>\n",
              "      <th>funny</th>\n",
              "      <th>elite</th>\n",
              "      <th>friends</th>\n",
              "      <th>fans</th>\n",
              "      <th>average_stars</th>\n",
              "      <th>compliment_more</th>\n",
              "      <th>compliment_profile</th>\n",
              "      <th>compliment_cute</th>\n",
              "      <th>compliment_list</th>\n",
              "      <th>compliment_note</th>\n",
              "      <th>compliment_writer</th>\n",
              "      <th>compliment_photos</th>\n",
              "    </tr>\n",
              "  </thead>\n",
              "  <tbody>\n",
              "    <tr>\n",
              "      <th>0</th>\n",
              "      <td>qVc8ODYU5SZjKXVBgXdI7w</td>\n",
              "      <td>Walker</td>\n",
              "      <td>585</td>\n",
              "      <td>2007-01-25 16:47:26</td>\n",
              "      <td>7217</td>\n",
              "      <td>1259</td>\n",
              "      <td>2007</td>\n",
              "      <td>NSCy54eWehBJyZdG2iE84w, pe42u7DcCH2QmI81NX-8qA...</td>\n",
              "      <td>267</td>\n",
              "      <td>3.91</td>\n",
              "      <td>65</td>\n",
              "      <td>55</td>\n",
              "      <td>56</td>\n",
              "      <td>18</td>\n",
              "      <td>232</td>\n",
              "      <td>239</td>\n",
              "      <td>180</td>\n",
              "    </tr>\n",
              "    <tr>\n",
              "      <th>3</th>\n",
              "      <td>SZDeASXq7o05mMNLshsdIA</td>\n",
              "      <td>Gwen</td>\n",
              "      <td>224</td>\n",
              "      <td>2005-11-29 04:38:33</td>\n",
              "      <td>512</td>\n",
              "      <td>330</td>\n",
              "      <td>2009,2010,2011</td>\n",
              "      <td>enx1vVPnfdNUdPho6PH_wg, 4wOcvMLtU6a9Lslggq74Vg...</td>\n",
              "      <td>28</td>\n",
              "      <td>4.27</td>\n",
              "      <td>4</td>\n",
              "      <td>1</td>\n",
              "      <td>6</td>\n",
              "      <td>2</td>\n",
              "      <td>12</td>\n",
              "      <td>10</td>\n",
              "      <td>9</td>\n",
              "    </tr>\n",
              "    <tr>\n",
              "      <th>5</th>\n",
              "      <td>q_QQ5kBBwlCcbL1s4NVK3g</td>\n",
              "      <td>Jane</td>\n",
              "      <td>1221</td>\n",
              "      <td>2005-03-14 20:26:35</td>\n",
              "      <td>14953</td>\n",
              "      <td>9940</td>\n",
              "      <td>2006,2007,2008,2009,2010,2011,2012,2013,2014</td>\n",
              "      <td>xBDpTUbai0DXrvxCe3X16Q, 7GPNBO496aecrjJfW6UWtg...</td>\n",
              "      <td>1357</td>\n",
              "      <td>3.85</td>\n",
              "      <td>163</td>\n",
              "      <td>191</td>\n",
              "      <td>361</td>\n",
              "      <td>147</td>\n",
              "      <td>1212</td>\n",
              "      <td>815</td>\n",
              "      <td>323</td>\n",
              "    </tr>\n",
              "    <tr>\n",
              "      <th>10</th>\n",
              "      <td>iYzhPPqnrjJkg1JHZyMhzA</td>\n",
              "      <td>Chris</td>\n",
              "      <td>4</td>\n",
              "      <td>2010-11-03 18:59:20</td>\n",
              "      <td>1</td>\n",
              "      <td>0</td>\n",
              "      <td></td>\n",
              "      <td>Vq4Pc81l6MWTnc-h41YE-Q, ArMLZPW4GljwhopfoQA-uw...</td>\n",
              "      <td>1</td>\n",
              "      <td>4.00</td>\n",
              "      <td>0</td>\n",
              "      <td>0</td>\n",
              "      <td>0</td>\n",
              "      <td>0</td>\n",
              "      <td>0</td>\n",
              "      <td>0</td>\n",
              "      <td>0</td>\n",
              "    </tr>\n",
              "    <tr>\n",
              "      <th>18</th>\n",
              "      <td>QF1Kuhs8iwLWANNZxebTow</td>\n",
              "      <td>Catherine</td>\n",
              "      <td>607</td>\n",
              "      <td>2009-04-27 20:25:54</td>\n",
              "      <td>4573</td>\n",
              "      <td>3714</td>\n",
              "      <td>2010,2011,2012,2013,2014,2015,2016,2017,2018,2...</td>\n",
              "      <td>dLts9bY66tXEFqYG03YFgw, SYDGMC7d5NnMiT1l_WQq5A...</td>\n",
              "      <td>131</td>\n",
              "      <td>4.11</td>\n",
              "      <td>79</td>\n",
              "      <td>68</td>\n",
              "      <td>29</td>\n",
              "      <td>23</td>\n",
              "      <td>144</td>\n",
              "      <td>587</td>\n",
              "      <td>723</td>\n",
              "    </tr>\n",
              "  </tbody>\n",
              "</table>\n",
              "</div>\n",
              "      <button class=\"colab-df-convert\" onclick=\"convertToInteractive('df-16d2688f-f11a-4334-b336-0d0c1dccf800')\"\n",
              "              title=\"Convert this dataframe to an interactive table.\"\n",
              "              style=\"display:none;\">\n",
              "        \n",
              "  <svg xmlns=\"http://www.w3.org/2000/svg\" height=\"24px\"viewBox=\"0 0 24 24\"\n",
              "       width=\"24px\">\n",
              "    <path d=\"M0 0h24v24H0V0z\" fill=\"none\"/>\n",
              "    <path d=\"M18.56 5.44l.94 2.06.94-2.06 2.06-.94-2.06-.94-.94-2.06-.94 2.06-2.06.94zm-11 1L8.5 8.5l.94-2.06 2.06-.94-2.06-.94L8.5 2.5l-.94 2.06-2.06.94zm10 10l.94 2.06.94-2.06 2.06-.94-2.06-.94-.94-2.06-.94 2.06-2.06.94z\"/><path d=\"M17.41 7.96l-1.37-1.37c-.4-.4-.92-.59-1.43-.59-.52 0-1.04.2-1.43.59L10.3 9.45l-7.72 7.72c-.78.78-.78 2.05 0 2.83L4 21.41c.39.39.9.59 1.41.59.51 0 1.02-.2 1.41-.59l7.78-7.78 2.81-2.81c.8-.78.8-2.07 0-2.86zM5.41 20L4 18.59l7.72-7.72 1.47 1.35L5.41 20z\"/>\n",
              "  </svg>\n",
              "      </button>\n",
              "      \n",
              "  <style>\n",
              "    .colab-df-container {\n",
              "      display:flex;\n",
              "      flex-wrap:wrap;\n",
              "      gap: 12px;\n",
              "    }\n",
              "\n",
              "    .colab-df-convert {\n",
              "      background-color: #E8F0FE;\n",
              "      border: none;\n",
              "      border-radius: 50%;\n",
              "      cursor: pointer;\n",
              "      display: none;\n",
              "      fill: #1967D2;\n",
              "      height: 32px;\n",
              "      padding: 0 0 0 0;\n",
              "      width: 32px;\n",
              "    }\n",
              "\n",
              "    .colab-df-convert:hover {\n",
              "      background-color: #E2EBFA;\n",
              "      box-shadow: 0px 1px 2px rgba(60, 64, 67, 0.3), 0px 1px 3px 1px rgba(60, 64, 67, 0.15);\n",
              "      fill: #174EA6;\n",
              "    }\n",
              "\n",
              "    [theme=dark] .colab-df-convert {\n",
              "      background-color: #3B4455;\n",
              "      fill: #D2E3FC;\n",
              "    }\n",
              "\n",
              "    [theme=dark] .colab-df-convert:hover {\n",
              "      background-color: #434B5C;\n",
              "      box-shadow: 0px 1px 3px 1px rgba(0, 0, 0, 0.15);\n",
              "      filter: drop-shadow(0px 1px 2px rgba(0, 0, 0, 0.3));\n",
              "      fill: #FFFFFF;\n",
              "    }\n",
              "  </style>\n",
              "\n",
              "      <script>\n",
              "        const buttonEl =\n",
              "          document.querySelector('#df-16d2688f-f11a-4334-b336-0d0c1dccf800 button.colab-df-convert');\n",
              "        buttonEl.style.display =\n",
              "          google.colab.kernel.accessAllowed ? 'block' : 'none';\n",
              "\n",
              "        async function convertToInteractive(key) {\n",
              "          const element = document.querySelector('#df-16d2688f-f11a-4334-b336-0d0c1dccf800');\n",
              "          const dataTable =\n",
              "            await google.colab.kernel.invokeFunction('convertToInteractive',\n",
              "                                                     [key], {});\n",
              "          if (!dataTable) return;\n",
              "\n",
              "          const docLinkHtml = 'Like what you see? Visit the ' +\n",
              "            '<a target=\"_blank\" href=https://colab.research.google.com/notebooks/data_table.ipynb>data table notebook</a>'\n",
              "            + ' to learn more about interactive tables.';\n",
              "          element.innerHTML = '';\n",
              "          dataTable['output_type'] = 'display_data';\n",
              "          await google.colab.output.renderOutput(dataTable, element);\n",
              "          const docLink = document.createElement('div');\n",
              "          docLink.innerHTML = docLinkHtml;\n",
              "          element.appendChild(docLink);\n",
              "        }\n",
              "      </script>\n",
              "    </div>\n",
              "  </div>\n",
              "  "
            ]
          },
          "metadata": {},
          "execution_count": 56
        }
      ]
    },
    {
      "cell_type": "code",
      "source": [
        "plt.figure(figsize=(20,10))\n",
        "cor_matrix = users_ca.corr()\n",
        "sns.heatmap(cor_matrix, cmap= \"BrBG\", annot=True)"
      ],
      "metadata": {
        "colab": {
          "base_uri": "https://localhost:8080/",
          "height": 701
        },
        "id": "qWlaFJYvL2O5",
        "outputId": "1fed5064-7f2e-4383-a491-09109876c999"
      },
      "execution_count": 57,
      "outputs": [
        {
          "output_type": "execute_result",
          "data": {
            "text/plain": [
              "<matplotlib.axes._subplots.AxesSubplot at 0x7f60936e3d90>"
            ]
          },
          "metadata": {},
          "execution_count": 57
        },
        {
          "output_type": "display_data",
          "data": {
            "text/plain": [
              "<Figure size 1440x720 with 2 Axes>"
            ],
            "image/png": "[encoded data removed]"
          },
          "metadata": {
            "needs_background": "light"
          }
        }
      ]
    }
  ]
}